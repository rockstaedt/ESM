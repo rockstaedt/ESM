{
 "cells": [
  {
   "cell_type": "markdown",
   "metadata": {},
   "source": [
    "So far: Res with several plants in each node, dc load flow\n",
    "To DO: Storages, Map of Germany with links"
   ]
  },
  {
   "cell_type": "code",
   "execution_count": 1,
   "metadata": {},
   "outputs": [],
   "source": [
    "using JuMP\n",
    "using Clp\n",
    "using DataFrames\n",
    "using LinearAlgebra\n",
    "using CSV\n",
    "using Plots"
   ]
  },
  {
   "cell_type": "code",
   "execution_count": 2,
   "metadata": {},
   "outputs": [
    {
     "data": {
      "text/html": [
       "<table class=\"data-frame\"><thead><tr><th></th><th>index</th><th>node</th><th>g_max_s</th><th>mc</th><th>storage capacity</th><th>tech</th><th>efficiency</th></tr><tr><th></th><th>String</th><th>Int64</th><th>Int64</th><th>Int64</th><th>Int64</th><th>String</th><th>Float64</th></tr></thead><tbody><p>2 rows × 7 columns</p><tr><th>1</th><td>s1</td><td>1</td><td>50</td><td>1</td><td>50</td><td>hydro</td><td>0.8</td></tr><tr><th>2</th><td>s2</td><td>2</td><td>100</td><td>0</td><td>100</td><td>battery</td><td>0.8</td></tr></tbody></table>"
      ],
      "text/latex": [
       "\\begin{tabular}{r|ccccccc}\n",
       "\t& index & node & g\\_max\\_s & mc & storage capacity & tech & efficiency\\\\\n",
       "\t\\hline\n",
       "\t& String & Int64 & Int64 & Int64 & Int64 & String & Float64\\\\\n",
       "\t\\hline\n",
       "\t1 & s1 & 1 & 50 & 1 & 50 & hydro & 0.8 \\\\\n",
       "\t2 & s2 & 2 & 100 & 0 & 100 & battery & 0.8 \\\\\n",
       "\\end{tabular}\n"
      ],
      "text/plain": [
       "2×7 DataFrame. Omitted printing of 1 columns\n",
       "│ Row │ index  │ node  │ g_max_s │ mc    │ storage capacity │ tech    │\n",
       "│     │ \u001b[90mString\u001b[39m │ \u001b[90mInt64\u001b[39m │ \u001b[90mInt64\u001b[39m   │ \u001b[90mInt64\u001b[39m │ \u001b[90mInt64\u001b[39m            │ \u001b[90mString\u001b[39m  │\n",
       "├─────┼────────┼───────┼─────────┼───────┼──────────────────┼─────────┤\n",
       "│ 1   │ s1     │ 1     │ 50      │ 1     │ 50               │ hydro   │\n",
       "│ 2   │ s2     │ 2     │ 100     │ 0     │ 100              │ battery │"
      ]
     },
     "execution_count": 2,
     "metadata": {},
     "output_type": "execute_result"
    }
   ],
   "source": [
    "L_df = CSV.read(\"lines.csv\")\n",
    "N_df = CSV.read(\"nodes.csv\")\n",
    "P_df = CSV.read(\"plants.csv\")\n",
    "D_df = CSV.read(\"demand.csv\")\n",
    "R_df = CSV.read(\"res.csv\")\n",
    "S_df = CSV.read(\"storages.csv\")"
   ]
  },
  {
   "cell_type": "code",
   "execution_count": 3,
   "metadata": {},
   "outputs": [
    {
     "data": {
      "text/html": [
       "<table class=\"data-frame\"><thead><tr><th></th><th>timestep</th><th>wind</th><th>pv</th></tr><tr><th></th><th>Int64</th><th>Int64</th><th>Int64</th></tr></thead><tbody><p>2 rows × 3 columns</p><tr><th>1</th><td>1</td><td>1</td><td>1</td></tr><tr><th>2</th><td>2</td><td>1</td><td>1</td></tr></tbody></table>"
      ],
      "text/latex": [
       "\\begin{tabular}{r|ccc}\n",
       "\t& timestep & wind & pv\\\\\n",
       "\t\\hline\n",
       "\t& Int64 & Int64 & Int64\\\\\n",
       "\t\\hline\n",
       "\t1 & 1 & 1 & 1 \\\\\n",
       "\t2 & 2 & 1 & 1 \\\\\n",
       "\\end{tabular}\n"
      ],
      "text/plain": [
       "2×3 DataFrame\n",
       "│ Row │ timestep │ wind  │ pv    │\n",
       "│     │ \u001b[90mInt64\u001b[39m    │ \u001b[90mInt64\u001b[39m │ \u001b[90mInt64\u001b[39m │\n",
       "├─────┼──────────┼───────┼───────┤\n",
       "│ 1   │ 1        │ 1     │ 1     │\n",
       "│ 2   │ 2        │ 1     │ 1     │"
      ]
     },
     "execution_count": 3,
     "metadata": {},
     "output_type": "execute_result"
    }
   ],
   "source": [
    "R_df"
   ]
  },
  {
   "cell_type": "code",
   "execution_count": 4,
   "metadata": {},
   "outputs": [
    {
     "data": {
      "text/plain": [
       "26×16 Array{Float64,2}:\n",
       "  0.395689   -0.0208109  -0.0208109  …  0.0   0.00476269   0.0143332\n",
       "  0.208622    0.0416217   0.0416217     0.0  -0.00952538  -0.0286665\n",
       "  0.0         1.0         0.0           0.0   0.0          0.0\n",
       "  0.395689   -0.0208109  -0.0208109     0.0   0.00476269   0.0143332\n",
       "  0.395689   -0.0208109  -0.0208109     0.0   0.00476269   0.0143332\n",
       " -0.0748266   0.024973    0.024973   …  0.0  -0.00571523  -0.0171999\n",
       "  0.133796    0.0665948   0.0665948     0.0  -0.0152406   -0.0458664\n",
       " -0.0101633   0.0313622   0.0313622     0.0  -0.01561     -0.0496577\n",
       " -0.157586   -0.197557   -0.197557      0.0   0.0367796    0.108008\n",
       "  0.0         0.0         0.0           0.0   0.0          0.0\n",
       "  0.123632    0.097957    0.097957   …  0.0  -0.0308506   -0.0955241\n",
       "  0.0542806   0.0368759   0.0368759     0.0   0.0252909    0.0868315\n",
       "  0.16775     0.166195    0.166195      0.0  -0.0211697   -0.0583503\n",
       " -0.208891   -0.215355   -0.215355      0.0  -0.0395905   -0.0746634\n",
       " -0.499727   -0.520493   -0.520493      0.0  -0.0124297   -0.079211\n",
       " -0.0224999  -0.0178954  -0.0178954  …  0.0  -0.0865466   -0.107447\n",
       " -0.174391   -0.15674    -0.15674       0.0  -0.070379    -0.245569\n",
       "  0.0476396   0.0463307   0.0463307     0.0  -0.0662578   -0.217088\n",
       "  0.0693518   0.0610811   0.0610811     0.0  -0.0561414   -0.182356\n",
       "  0.231391    0.233251    0.233251      0.0   0.126137     0.182111\n",
       " -1.0        -1.0        -1.0        …  0.0  -1.0         -1.0\n",
       " -0.600977   -0.601022   -0.601022      0.0  -0.401889    -0.562724\n",
       " -0.167633   -0.165728   -0.165728      0.0  -0.471974    -0.255165\n",
       " -0.0948747  -0.0910465  -0.0910465     0.0   0.216809    -0.28524\n",
       "  0.072758    0.0746811   0.0746811     0.0  -0.311218    -0.0300754\n",
       " -0.0221167  -0.0163654  -0.0163654  …  0.0  -0.0944093   -0.315316"
      ]
     },
     "execution_count": 4,
     "metadata": {},
     "output_type": "execute_result"
    }
   ],
   "source": [
    "b = vec(Array(select(L_df,\"b\")))\n",
    "A = zeros(nrow(L_df),nrow(N_df))\n",
    "NODES = vec(Array(select(N_df,\"index\")))\n",
    "SLACK = 14\n",
    "\n",
    "#calculation of incidence matrix A\n",
    "counter= 1\n",
    "for i in eachrow(L_df)\n",
    "    wert1 = L_df[counter,:][2]\n",
    "    wert2 = L_df[counter,:][3]\n",
    "    A[counter,wert1] =1\n",
    "    A[counter,wert2] =-1\n",
    "    global counter +=1\n",
    "end\n",
    "\n",
    "#calculate ptdf matrix source:EW-MOD lecture\n",
    "function calculate_ptdf(A, b_vector, NODES, SLACK)\n",
    "    \"\"\" Create PTDF Based on:\n",
    "    Topology (A, incedence Matrix): LxN Matrix (1, -1) for nodes connected by line\n",
    "    Susceptance Vector (B): Linesusceptance, calculated by line paramters and propotional to length\n",
    "    NODES: Array of nodes\n",
    "    SLACK: Reference Node to create the inversse of A.T * Bd A\n",
    "\n",
    "    From documentation: PTDF = (Bd*A)(A.T * Bd * A)^-1\n",
    "    Bd: Suceptance Vector (for each line) on Diagonal Matrix (LxL)\n",
    "    Bl: Line Susceptance Matrix Bd*A\n",
    "    Bn: Nodes Susceptance Matrix (A'*B)*A\n",
    "    B_inv = Bn^-1 (without slack, otherwise singular)\n",
    "    PTDF = Bl * B_inv\n",
    "    \"\"\"\n",
    "    ## Calculation based on indices rather than Node Names (of type Str or Symb)\n",
    "    idx_nodes = collect(1:length(NODES))\n",
    "    idx_slack = findfirst(x -> x==SLACK, NODES)\n",
    "    #A = incedence\n",
    "    Bd = Diagonal(b_vector)\n",
    "    Bl = Bd*A # Line suceptance Matrix\n",
    "    Bn = (A'*Bd)*A # Nodes suceptance Matrix\n",
    "    \n",
    "    B_inv = zeros(length(NODES),length(NODES))\n",
    "    B_inv[setdiff(idx_nodes,idx_slack), setdiff(idx_nodes,idx_slack)] = inv(Bn[setdiff(idx_nodes,idx_slack), setdiff(idx_nodes,idx_slack)])\n",
    "    PTDF = Bl*B_inv\n",
    "    return PTDF\n",
    "end\n",
    "\n",
    "ptdf = calculate_ptdf(A,b,NODES,SLACK);\n",
    "ptdf"
   ]
  },
  {
   "cell_type": "code",
   "execution_count": 5,
   "metadata": {},
   "outputs": [
    {
     "data": {
      "text/plain": [
       "10-element Array{String,1}:\n",
       " \"p2\"\n",
       " \"p4\"\n",
       " \"p7\"\n",
       " \"p8\"\n",
       " \"p9\"\n",
       " \"p10\"\n",
       " \"p12\"\n",
       " \"p13\"\n",
       " \"p15\"\n",
       " \"p16\""
      ]
     },
     "execution_count": 5,
     "metadata": {},
     "output_type": "execute_result"
    }
   ],
   "source": [
    "DISP = P_df[P_df.renewable .==\"no\",:].index #dispatchable plants\n",
    "NDISP = P_df[P_df.renewable .==\"yes\",:].index #nondispatchable plants, shouldnt be that important\n",
    "PLANTS = vec(Array(select(P_df,\"index\")))\n",
    "LINES = vec(Array(select(L_df,\"index\"))) #lines\n",
    "l_max = vec(Array(select(L_df,\"lmax\"))) #line maxes\n",
    "T = [1,2] #timesteps\n",
    "demand= D_df #demand dataframe\n",
    "DISP"
   ]
  },
  {
   "cell_type": "code",
   "execution_count": 6,
   "metadata": {},
   "outputs": [
    {
     "name": "stderr",
     "output_type": "stream",
     "text": [
      "┌ Warning: `deleterows!(df::DataFrame, inds)` is deprecated, use `delete!(df, inds)` instead.\n",
      "│   caller = top-level scope at In[6]:6\n",
      "└ @ Core In[6]:6\n",
      "┌ Warning: `deleterows!(df::DataFrame, inds)` is deprecated, use `delete!(df, inds)` instead.\n",
      "│   caller = top-level scope at In[6]:7\n",
      "└ @ Core In[6]:7\n"
     ]
    },
    {
     "data": {
      "text/html": [
       "<table class=\"data-frame\"><thead><tr><th></th><th>index</th><th>node</th><th>tech</th><th>g_max_c</th><th>mc</th><th>renewable</th><th>g_max_r</th></tr><tr><th></th><th>String</th><th>Int64</th><th>String</th><th>Int64</th><th>Int64</th><th>String</th><th>Int64</th></tr></thead><tbody><p>11 rows × 7 columns</p><tr><th>1</th><td>p18</td><td>5</td><td>pv</td><td>0</td><td>0</td><td>yes</td><td>50</td></tr><tr><th>2</th><td>p2</td><td>2</td><td>gas</td><td>50</td><td>15</td><td>no</td><td>0</td></tr><tr><th>3</th><td>p4</td><td>4</td><td>coal</td><td>250</td><td>8</td><td>no</td><td>0</td></tr><tr><th>4</th><td>p7</td><td>7</td><td>lignite</td><td>500</td><td>6</td><td>no</td><td>0</td></tr><tr><th>5</th><td>p8</td><td>8</td><td>coal</td><td>250</td><td>8</td><td>no</td><td>0</td></tr><tr><th>6</th><td>p9</td><td>9</td><td>coal</td><td>250</td><td>8</td><td>no</td><td>0</td></tr><tr><th>7</th><td>p10</td><td>10</td><td>gas</td><td>50</td><td>15</td><td>no</td><td>0</td></tr><tr><th>8</th><td>p12</td><td>12</td><td>lignite</td><td>250</td><td>6</td><td>no</td><td>0</td></tr><tr><th>9</th><td>p13</td><td>13</td><td>hydro</td><td>50</td><td>0</td><td>no</td><td>0</td></tr><tr><th>10</th><td>p15</td><td>15</td><td>nuclear</td><td>500</td><td>5</td><td>no</td><td>0</td></tr><tr><th>11</th><td>p16</td><td>16</td><td>nuclear</td><td>500</td><td>5</td><td>no</td><td>0</td></tr></tbody></table>"
      ],
      "text/latex": [
       "\\begin{tabular}{r|ccccccc}\n",
       "\t& index & node & tech & g\\_max\\_c & mc & renewable & g\\_max\\_r\\\\\n",
       "\t\\hline\n",
       "\t& String & Int64 & String & Int64 & Int64 & String & Int64\\\\\n",
       "\t\\hline\n",
       "\t1 & p18 & 5 & pv & 0 & 0 & yes & 50 \\\\\n",
       "\t2 & p2 & 2 & gas & 50 & 15 & no & 0 \\\\\n",
       "\t3 & p4 & 4 & coal & 250 & 8 & no & 0 \\\\\n",
       "\t4 & p7 & 7 & lignite & 500 & 6 & no & 0 \\\\\n",
       "\t5 & p8 & 8 & coal & 250 & 8 & no & 0 \\\\\n",
       "\t6 & p9 & 9 & coal & 250 & 8 & no & 0 \\\\\n",
       "\t7 & p10 & 10 & gas & 50 & 15 & no & 0 \\\\\n",
       "\t8 & p12 & 12 & lignite & 250 & 6 & no & 0 \\\\\n",
       "\t9 & p13 & 13 & hydro & 50 & 0 & no & 0 \\\\\n",
       "\t10 & p15 & 15 & nuclear & 500 & 5 & no & 0 \\\\\n",
       "\t11 & p16 & 16 & nuclear & 500 & 5 & no & 0 \\\\\n",
       "\\end{tabular}\n"
      ],
      "text/plain": [
       "11×7 DataFrame\n",
       "│ Row │ index  │ node  │ tech    │ g_max_c │ mc    │ renewable │ g_max_r │\n",
       "│     │ \u001b[90mString\u001b[39m │ \u001b[90mInt64\u001b[39m │ \u001b[90mString\u001b[39m  │ \u001b[90mInt64\u001b[39m   │ \u001b[90mInt64\u001b[39m │ \u001b[90mString\u001b[39m    │ \u001b[90mInt64\u001b[39m   │\n",
       "├─────┼────────┼───────┼─────────┼─────────┼───────┼───────────┼─────────┤\n",
       "│ 1   │ p18    │ 5     │ pv      │ 0       │ 0     │ yes       │ 50      │\n",
       "│ 2   │ p2     │ 2     │ gas     │ 50      │ 15    │ no        │ 0       │\n",
       "│ 3   │ p4     │ 4     │ coal    │ 250     │ 8     │ no        │ 0       │\n",
       "│ 4   │ p7     │ 7     │ lignite │ 500     │ 6     │ no        │ 0       │\n",
       "│ 5   │ p8     │ 8     │ coal    │ 250     │ 8     │ no        │ 0       │\n",
       "│ 6   │ p9     │ 9     │ coal    │ 250     │ 8     │ no        │ 0       │\n",
       "│ 7   │ p10    │ 10    │ gas     │ 50      │ 15    │ no        │ 0       │\n",
       "│ 8   │ p12    │ 12    │ lignite │ 250     │ 6     │ no        │ 0       │\n",
       "│ 9   │ p13    │ 13    │ hydro   │ 50      │ 0     │ no        │ 0       │\n",
       "│ 10  │ p15    │ 15    │ nuclear │ 500     │ 5     │ no        │ 0       │\n",
       "│ 11  │ p16    │ 16    │ nuclear │ 500     │ 5     │ no        │ 0       │"
      ]
     },
     "execution_count": 6,
     "metadata": {},
     "output_type": "execute_result"
    }
   ],
   "source": [
    "#df for disp plants\n",
    "\n",
    "#make empty copy\n",
    "DISP_PLANTS = copy(P_df)\n",
    "NONDISP_PLANTS = copy(P_df)\n",
    "deleterows!(DISP_PLANTS,1:16)\n",
    "deleterows!(NONDISP_PLANTS,1:16)\n",
    "\n",
    "for i in DISP\n",
    "    f = P_df[P_df.index .==i,:]\n",
    "    append!(DISP_PLANTS,f)\n",
    "end\n",
    "for i in NDISP\n",
    "    f = P_df[P_df.index .==i,:]\n",
    "    append!(NONDISP_PLANTS,f)\n",
    "end\n",
    "DISP_PLANTS"
   ]
  },
  {
   "cell_type": "code",
   "execution_count": 7,
   "metadata": {},
   "outputs": [
    {
     "data": {
      "text/plain": [
       "Dict{Any,Any} with 16 entries:\n",
       "  2  => [\"p2\"]\n",
       "  16 => [\"p16\", \"p17\"]\n",
       "  11 => [\"p11\"]\n",
       "  7  => [\"p7\"]\n",
       "  9  => [\"p9\"]\n",
       "  10 => [\"p10\"]\n",
       "  8  => [\"p8\"]\n",
       "  6  => [\"p6\"]\n",
       "  4  => [\"p4\"]\n",
       "  3  => [\"p3\"]\n",
       "  5  => [\"p5\", \"p18\"]\n",
       "  13 => [\"p13\"]\n",
       "  14 => Any[]\n",
       "  15 => [\"p15\"]\n",
       "  12 => [\"p12\"]\n",
       "  1  => [\"p1\"]"
      ]
     },
     "execution_count": 7,
     "metadata": {},
     "output_type": "execute_result"
    }
   ],
   "source": [
    "plants_at_node = Dict()\n",
    "mc = Dict()\n",
    "gmax_c = Dict()\n",
    "for i in eachrow(P_df)\n",
    "    if !haskey(plants_at_node,i[\"node\"])\n",
    "        plants_at_node[i[\"node\"]]=[i[\"index\"]]\n",
    "    else\n",
    "        push!(plants_at_node[i[\"node\"]],i[\"index\"])\n",
    "    end\n",
    "    mc[i[\"index\"]] = i[\"mc\"]\n",
    "    gmax_c[i[\"index\"]] = i[\"g_max_c\"]\n",
    "end\n",
    "plants_at_node[SLACK]=[]\n",
    "plants_at_node"
   ]
  },
  {
   "cell_type": "code",
   "execution_count": 8,
   "metadata": {},
   "outputs": [
    {
     "data": {
      "text/html": [
       "<table class=\"data-frame\"><thead><tr><th></th><th>index</th><th>node</th><th>tech</th><th>g_max_c</th><th>mc</th><th>renewable</th><th>g_max_r</th></tr><tr><th></th><th>String</th><th>Int64</th><th>String</th><th>Int64</th><th>Int64</th><th>String</th><th>Int64</th></tr></thead><tbody><p>18 rows × 7 columns</p><tr><th>1</th><td>p1</td><td>1</td><td>wind</td><td>0</td><td>0</td><td>yes</td><td>250</td></tr><tr><th>2</th><td>p2</td><td>2</td><td>gas</td><td>50</td><td>15</td><td>no</td><td>0</td></tr><tr><th>3</th><td>p3</td><td>3</td><td>wind</td><td>0</td><td>0</td><td>yes</td><td>250</td></tr><tr><th>4</th><td>p4</td><td>4</td><td>coal</td><td>250</td><td>8</td><td>no</td><td>0</td></tr><tr><th>5</th><td>p5</td><td>5</td><td>wind</td><td>0</td><td>0</td><td>yes</td><td>250</td></tr><tr><th>6</th><td>p6</td><td>6</td><td>pv</td><td>0</td><td>0</td><td>yes</td><td>50</td></tr><tr><th>7</th><td>p7</td><td>7</td><td>lignite</td><td>500</td><td>6</td><td>no</td><td>0</td></tr><tr><th>8</th><td>p8</td><td>8</td><td>coal</td><td>250</td><td>8</td><td>no</td><td>0</td></tr><tr><th>9</th><td>p9</td><td>9</td><td>coal</td><td>250</td><td>8</td><td>no</td><td>0</td></tr><tr><th>10</th><td>p10</td><td>10</td><td>gas</td><td>50</td><td>15</td><td>no</td><td>0</td></tr><tr><th>11</th><td>p11</td><td>11</td><td>pv</td><td>0</td><td>0</td><td>yes</td><td>50</td></tr><tr><th>12</th><td>p12</td><td>12</td><td>lignite</td><td>250</td><td>6</td><td>no</td><td>0</td></tr><tr><th>13</th><td>p13</td><td>13</td><td>hydro</td><td>50</td><td>0</td><td>no</td><td>0</td></tr><tr><th>14</th><td>p15</td><td>15</td><td>nuclear</td><td>500</td><td>5</td><td>no</td><td>0</td></tr><tr><th>15</th><td>p16</td><td>16</td><td>nuclear</td><td>500</td><td>5</td><td>no</td><td>0</td></tr><tr><th>16</th><td>p17</td><td>16</td><td>pv</td><td>0</td><td>0</td><td>yes</td><td>50</td></tr><tr><th>17</th><td>p18</td><td>5</td><td>pv</td><td>0</td><td>0</td><td>yes</td><td>50</td></tr><tr><th>18</th><td>0</td><td>14</td><td>0</td><td>0</td><td>0</td><td>0</td><td>0</td></tr></tbody></table>"
      ],
      "text/latex": [
       "\\begin{tabular}{r|ccccccc}\n",
       "\t& index & node & tech & g\\_max\\_c & mc & renewable & g\\_max\\_r\\\\\n",
       "\t\\hline\n",
       "\t& String & Int64 & String & Int64 & Int64 & String & Int64\\\\\n",
       "\t\\hline\n",
       "\t1 & p1 & 1 & wind & 0 & 0 & yes & 250 \\\\\n",
       "\t2 & p2 & 2 & gas & 50 & 15 & no & 0 \\\\\n",
       "\t3 & p3 & 3 & wind & 0 & 0 & yes & 250 \\\\\n",
       "\t4 & p4 & 4 & coal & 250 & 8 & no & 0 \\\\\n",
       "\t5 & p5 & 5 & wind & 0 & 0 & yes & 250 \\\\\n",
       "\t6 & p6 & 6 & pv & 0 & 0 & yes & 50 \\\\\n",
       "\t7 & p7 & 7 & lignite & 500 & 6 & no & 0 \\\\\n",
       "\t8 & p8 & 8 & coal & 250 & 8 & no & 0 \\\\\n",
       "\t9 & p9 & 9 & coal & 250 & 8 & no & 0 \\\\\n",
       "\t10 & p10 & 10 & gas & 50 & 15 & no & 0 \\\\\n",
       "\t11 & p11 & 11 & pv & 0 & 0 & yes & 50 \\\\\n",
       "\t12 & p12 & 12 & lignite & 250 & 6 & no & 0 \\\\\n",
       "\t13 & p13 & 13 & hydro & 50 & 0 & no & 0 \\\\\n",
       "\t14 & p15 & 15 & nuclear & 500 & 5 & no & 0 \\\\\n",
       "\t15 & p16 & 16 & nuclear & 500 & 5 & no & 0 \\\\\n",
       "\t16 & p17 & 16 & pv & 0 & 0 & yes & 50 \\\\\n",
       "\t17 & p18 & 5 & pv & 0 & 0 & yes & 50 \\\\\n",
       "\t18 & 0 & 14 & 0 & 0 & 0 & 0 & 0 \\\\\n",
       "\\end{tabular}\n"
      ],
      "text/plain": [
       "18×7 DataFrame\n",
       "│ Row │ index  │ node  │ tech    │ g_max_c │ mc    │ renewable │ g_max_r │\n",
       "│     │ \u001b[90mString\u001b[39m │ \u001b[90mInt64\u001b[39m │ \u001b[90mString\u001b[39m  │ \u001b[90mInt64\u001b[39m   │ \u001b[90mInt64\u001b[39m │ \u001b[90mString\u001b[39m    │ \u001b[90mInt64\u001b[39m   │\n",
       "├─────┼────────┼───────┼─────────┼─────────┼───────┼───────────┼─────────┤\n",
       "│ 1   │ p1     │ 1     │ wind    │ 0       │ 0     │ yes       │ 250     │\n",
       "│ 2   │ p2     │ 2     │ gas     │ 50      │ 15    │ no        │ 0       │\n",
       "│ 3   │ p3     │ 3     │ wind    │ 0       │ 0     │ yes       │ 250     │\n",
       "│ 4   │ p4     │ 4     │ coal    │ 250     │ 8     │ no        │ 0       │\n",
       "│ 5   │ p5     │ 5     │ wind    │ 0       │ 0     │ yes       │ 250     │\n",
       "│ 6   │ p6     │ 6     │ pv      │ 0       │ 0     │ yes       │ 50      │\n",
       "│ 7   │ p7     │ 7     │ lignite │ 500     │ 6     │ no        │ 0       │\n",
       "│ 8   │ p8     │ 8     │ coal    │ 250     │ 8     │ no        │ 0       │\n",
       "│ 9   │ p9     │ 9     │ coal    │ 250     │ 8     │ no        │ 0       │\n",
       "│ 10  │ p10    │ 10    │ gas     │ 50      │ 15    │ no        │ 0       │\n",
       "│ 11  │ p11    │ 11    │ pv      │ 0       │ 0     │ yes       │ 50      │\n",
       "│ 12  │ p12    │ 12    │ lignite │ 250     │ 6     │ no        │ 0       │\n",
       "│ 13  │ p13    │ 13    │ hydro   │ 50      │ 0     │ no        │ 0       │\n",
       "│ 14  │ p15    │ 15    │ nuclear │ 500     │ 5     │ no        │ 0       │\n",
       "│ 15  │ p16    │ 16    │ nuclear │ 500     │ 5     │ no        │ 0       │\n",
       "│ 16  │ p17    │ 16    │ pv      │ 0       │ 0     │ yes       │ 50      │\n",
       "│ 17  │ p18    │ 5     │ pv      │ 0       │ 0     │ yes       │ 50      │\n",
       "│ 18  │ 0      │ 14    │ 0       │ 0       │ 0     │ 0         │ 0       │"
      ]
     },
     "execution_count": 8,
     "metadata": {},
     "output_type": "execute_result"
    }
   ],
   "source": [
    "#to enter slack\n",
    "Kopie = copy(P_df)\n",
    "push!(Kopie,[\"0\" 14 \"0\" 0 0 \"0\" 0]);\n",
    "Kopie"
   ]
  },
  {
   "cell_type": "code",
   "execution_count": 9,
   "metadata": {},
   "outputs": [
    {
     "data": {
      "text/plain": [
       "Dict{Any,Any} with 96 entries:\n",
       "  (4, 2, 2)  => 0\n",
       "  (10, 2, 1) => 0\n",
       "  (11, 1, 3) => 0\n",
       "  (10, 1, 2) => 0\n",
       "  (12, 2, 1) => 0\n",
       "  (13, 2, 1) => 0\n",
       "  (1, 2, 1)  => 250\n",
       "  (15, 2, 2) => 0\n",
       "  (3, 1, 2)  => 0\n",
       "  (13, 2, 3) => 0\n",
       "  (13, 1, 3) => 0\n",
       "  (9, 1, 1)  => 0\n",
       "  (5, 2, 3)  => 0\n",
       "  (1, 2, 2)  => 0\n",
       "  (7, 1, 3)  => 0\n",
       "  (7, 2, 3)  => 0\n",
       "  (16, 1, 2) => 50\n",
       "  (10, 2, 2) => 0\n",
       "  (4, 1, 2)  => 0\n",
       "  (4, 1, 1)  => 0\n",
       "  (8, 1, 1)  => 0\n",
       "  (8, 2, 3)  => 0\n",
       "  (14, 2, 2) => 0\n",
       "  (2, 2, 1)  => 0\n",
       "  (12, 1, 2) => 0\n",
       "  ⋮          => ⋮"
      ]
     },
     "execution_count": 9,
     "metadata": {},
     "output_type": "execute_result"
    }
   ],
   "source": [
    "#gmax_r für alle nodes, timesteps\n",
    "#Capable for two res techs in a single node(pv and wind must be aggregated before hand)\n",
    "gmax_r = Dict()\n",
    "Techs = [1,2,3]#1=wind,2=pv,3=other\n",
    "\n",
    "\n",
    "\n",
    "for n in NODES\n",
    "    for t in T\n",
    "        for i in Techs\n",
    "            gmax_r[n,t,i] = 0\n",
    "        end\n",
    "        for i in 1:nrow(P_df[P_df.node .==n,:])\n",
    "            if P_df[P_df.node .==n,:][i,:][\"tech\"] == \"wind\"\n",
    "                gmax_r[n,t,1]= P_df[P_df.node .==n,:][i,:][\"g_max_r\"]*R_df[t,2]\n",
    "            elseif P_df[P_df.node .==n,:][i,:][\"tech\"] == \"pv\"\n",
    "                gmax_r[n,t,2] = P_df[P_df.node .==n,:][i,:][\"g_max_r\"]*R_df[t,3]\n",
    "            end\n",
    "        end\n",
    "    end\n",
    "end\n",
    "\n",
    "\n",
    "\n",
    "gmax_r\n"
   ]
  },
  {
   "cell_type": "code",
   "execution_count": 10,
   "metadata": {},
   "outputs": [],
   "source": [
    "NODES = vec(Array(select(N_df,\"index\")))\n",
    "NODESCOPY = copy(NODES)\n",
    "for i in S_df.node\n",
    "    filter!(x-> x !=i ,NODESCOPY)\n",
    "end\n",
    "NODESCOPY; "
   ]
  },
  {
   "cell_type": "code",
   "execution_count": 11,
   "metadata": {},
   "outputs": [],
   "source": [
    "#Storage Data Preparation\n",
    "storage_at_node = Dict()\n",
    "gmax_s = Dict()\n",
    "mcs=Dict()\n",
    "for i in eachrow(S_df)\n",
    "    if !haskey(storage_at_node,i[\"node\"])\n",
    "        storage_at_node[i[\"node\"]]=[i[\"index\"]]\n",
    "    else\n",
    "        push!(storage_at_node[i[\"node\"]],i[\"index\"])\n",
    "    end\n",
    "    gmax_s[i[\"index\"]] = i[\"g_max_s\"]\n",
    "    mcs[i[\"index\"]] = i[\"mc\"]\n",
    "    \n",
    "end\n",
    "\n",
    "storage_at_node;\n",
    "STORAGES = vec(Array(select(S_df,\"index\")));\n",
    "gmax_s;#storage cap and g max are equal in each timestep\n",
    "mcs;\n",
    "\n",
    "for n in NODESCOPY\n",
    "    storage_at_node[n] =[]\n",
    "end\n",
    "storage_at_node;"
   ]
  },
  {
   "cell_type": "code",
   "execution_count": 12,
   "metadata": {},
   "outputs": [
    {
     "data": {
      "text/plain": [
       "3-element Array{Int64,1}:\n",
       " 1\n",
       " 2\n",
       " 3"
      ]
     },
     "execution_count": 12,
     "metadata": {},
     "output_type": "execute_result"
    }
   ],
   "source": [
    "T=[1,2]\n",
    "Ts = copy(T)\n",
    "push!(Ts,length(T)+1)# Timesteps for storage levels"
   ]
  },
  {
   "cell_type": "code",
   "execution_count": 13,
   "metadata": {},
   "outputs": [
    {
     "data": {
      "text/plain": [
       "Dict{Any,Any} with 96 entries:\n",
       "  (4, 2, 2)  => 0\n",
       "  (10, 2, 1) => 0\n",
       "  (11, 1, 3) => 0\n",
       "  (10, 1, 2) => 0\n",
       "  (12, 2, 1) => 0\n",
       "  (13, 2, 1) => 0\n",
       "  (1, 2, 1)  => 250\n",
       "  (15, 2, 2) => 0\n",
       "  (3, 1, 2)  => 0\n",
       "  (13, 2, 3) => 0\n",
       "  (13, 1, 3) => 0\n",
       "  (9, 1, 1)  => 0\n",
       "  (5, 2, 3)  => 0\n",
       "  (1, 2, 2)  => 0\n",
       "  (7, 1, 3)  => 0\n",
       "  (7, 2, 3)  => 0\n",
       "  (16, 1, 2) => 50\n",
       "  (10, 2, 2) => 0\n",
       "  (4, 1, 2)  => 0\n",
       "  (4, 1, 1)  => 0\n",
       "  (8, 1, 1)  => 0\n",
       "  (8, 2, 3)  => 0\n",
       "  (14, 2, 2) => 0\n",
       "  (2, 2, 1)  => 0\n",
       "  (12, 1, 2) => 0\n",
       "  ⋮          => ⋮"
      ]
     },
     "execution_count": 13,
     "metadata": {},
     "output_type": "execute_result"
    }
   ],
   "source": [
    "gmax_r"
   ]
  },
  {
   "cell_type": "code",
   "execution_count": 14,
   "metadata": {},
   "outputs": [
    {
     "name": "stdout",
     "output_type": "stream",
     "text": [
      "Coin0506I Presolve 52 (-115) rows, 24 (-92) columns and 782 (-884) elements\n",
      "Clp0006I 0  Obj 0 Primal inf 46096.372 (20)\n",
      "Clp0006I 24  Obj 5862.6981\n",
      "Clp0000I Optimal - objective value 5862.6981\n",
      "Coin0511I After Postsolve, objective 5862.6981, infeasibilities - dual 9.9999998 (2), primal 0 (0)\n",
      "Coin0512I Presolved model was optimal, full model needs cleaning up\n",
      "Clp0006I 0  Obj 5862.6981 Primal inf 1.8073486e-05 (2) Dual inf 2e+08 (2)\n",
      "Clp0029I End of values pass after 2 iterations\n",
      "Clp0006I 2  Obj 5862.6981\n",
      "Clp0000I Optimal - objective value 5862.6981\n",
      "Clp0032I Optimal objective 5862.698071 - 26 iterations time 0.002, Presolve 0.00\n"
     ]
    },
    {
     "data": {
      "text/plain": [
       "5862.698071218143"
      ]
     },
     "execution_count": 14,
     "metadata": {},
     "output_type": "execute_result"
    }
   ],
   "source": [
    "##Model\n",
    "\n",
    "Fax = Model(Clp.Optimizer)\n",
    "@variables Fax begin\n",
    "    G[PLANTS,T] >= 0\n",
    "    INJ[NODES,T]\n",
    "    Gr[NODES,T] >= 0\n",
    "    D[STORAGES,Ts]>=0\n",
    "    Gs[STORAGES,Ts]>=0\n",
    "    L[STORAGES,Ts]>=0\n",
    "    \n",
    "end\n",
    "\n",
    "@objective(Fax, Min, sum(mc[disp] * G[disp,timestep] for disp in DISP, timestep in T)\n",
    "                    +sum(mcs[s]*Gs[s,timestep] for s in STORAGES,timestep in T ));\n",
    "\n",
    "@constraint(Fax, Max_Generation[plant=PLANTS,timestep = T],\n",
    "            G[plant,timestep] <= gmax_c[plant]);\n",
    "\n",
    "@constraint(Fax, Max_Gen_Res[node=NODES,timestep=T],\n",
    "            Gr[node,timestep] <= sum(gmax_r[node,timestep,tech] for tech in Techs));\n",
    "#so far so good\n",
    "\n",
    "\n",
    "\n",
    "@constraint(Fax, EnergyBalance[node=NODES,timestep = T],\n",
    "            sum(G[plant,timestep] for plant in plants_at_node[node])\n",
    "            - demand[timestep,node]  + Gr[node,timestep] \n",
    "            - sum(D[s,timestep] for s in storage_at_node[node])\n",
    "            + sum(Gs[s,timestep] for s in storage_at_node[node])== INJ[node,timestep]);\n",
    "\n",
    "\n",
    "#storage constraints\n",
    "\n",
    "@constraint(Fax,Input_Cap[s=STORAGES,timestep=T],\n",
    "            D[s,timestep] <= gmax_s[s]);\n",
    "\n",
    "@constraint(Fax,Generation_Cap[s=STORAGES,timestep=T],\n",
    "            Gs[s,timestep] <= gmax_s[s]);\n",
    "\n",
    "@constraint(Fax,Storage_Cap[s=STORAGES,timestep=T],\n",
    "            L[s,timestep] <= gmax_s[s]);\n",
    "\n",
    "@constraint(Fax,Storage_Level[s=STORAGES,timestep=2:length(T)],\n",
    "            L[s,timestep+1]==L[s,timestep]-Gs[s,timestep]+D[s,timestep]);\n",
    "\n",
    "@constraint(Fax,Start_Level[s=STORAGES],\n",
    "            L[s,1]==gmax_s[s]);\n",
    "\n",
    "\n",
    "\n",
    "\n",
    "\n",
    "\n",
    "#Line Constraints\n",
    "@constraint(Fax, LineMax[line=LINES],\n",
    "            sum(ptdf[line, node] * INJ[node,timestep] for node in NODES,timestep in T) <= l_max[line]\n",
    "            );\n",
    "\n",
    "@constraint(Fax, LineMin[line=LINES],\n",
    "            sum(ptdf[line, node] * INJ[node,timestep] for node in NODES,timestep in T) >= -l_max[line]\n",
    "            );\n",
    "\n",
    "@constraint(Fax, sum(INJ[node,timestep] for node in NODES,timestep in T) == 0);\n",
    "\n",
    "JuMP.optimize!(Fax)\n",
    "JuMP.objective_value(Fax)"
   ]
  },
  {
   "cell_type": "code",
   "execution_count": 15,
   "metadata": {},
   "outputs": [
    {
     "data": {
      "image/svg+xml": [
       "<?xml version=\"1.0\" encoding=\"utf-8\"?>\n",
       "<svg xmlns=\"http://www.w3.org/2000/svg\" xmlns:xlink=\"http://www.w3.org/1999/xlink\" width=\"600\" height=\"400\" viewBox=\"0 0 2400 1600\">\n",
       "<defs>\n",
       "  <clipPath id=\"clip570\">\n",
       "    <rect x=\"0\" y=\"0\" width=\"2400\" height=\"1600\"/>\n",
       "  </clipPath>\n",
       "</defs>\n",
       "<path clip-path=\"url(#clip570)\" d=\"\n",
       "M0 1600 L2400 1600 L2400 0 L0 0  Z\n",
       "  \" fill=\"#ffffff\" fill-rule=\"evenodd\" fill-opacity=\"1\"/>\n",
       "<defs>\n",
       "  <clipPath id=\"clip571\">\n",
       "    <rect x=\"480\" y=\"0\" width=\"1681\" height=\"1600\"/>\n",
       "  </clipPath>\n",
       "</defs>\n",
       "<path clip-path=\"url(#clip570)\" d=\"\n",
       "M211.602 1486.45 L2352.76 1486.45 L2352.76 123.472 L211.602 123.472  Z\n",
       "  \" fill=\"#ffffff\" fill-rule=\"evenodd\" fill-opacity=\"1\"/>\n",
       "<defs>\n",
       "  <clipPath id=\"clip572\">\n",
       "    <rect x=\"211\" y=\"123\" width=\"2142\" height=\"1364\"/>\n",
       "  </clipPath>\n",
       "</defs>\n",
       "<polyline clip-path=\"url(#clip572)\" style=\"stroke:#000000; stroke-width:2; stroke-opacity:0.1; fill:none\" points=\"\n",
       "  211.602,1486.45 211.602,123.472 \n",
       "  \"/>\n",
       "<polyline clip-path=\"url(#clip572)\" style=\"stroke:#000000; stroke-width:2; stroke-opacity:0.1; fill:none\" points=\"\n",
       "  639.833,1486.45 639.833,123.472 \n",
       "  \"/>\n",
       "<polyline clip-path=\"url(#clip572)\" style=\"stroke:#000000; stroke-width:2; stroke-opacity:0.1; fill:none\" points=\"\n",
       "  1068.06,1486.45 1068.06,123.472 \n",
       "  \"/>\n",
       "<polyline clip-path=\"url(#clip572)\" style=\"stroke:#000000; stroke-width:2; stroke-opacity:0.1; fill:none\" points=\"\n",
       "  1496.29,1486.45 1496.29,123.472 \n",
       "  \"/>\n",
       "<polyline clip-path=\"url(#clip572)\" style=\"stroke:#000000; stroke-width:2; stroke-opacity:0.1; fill:none\" points=\"\n",
       "  1924.53,1486.45 1924.53,123.472 \n",
       "  \"/>\n",
       "<polyline clip-path=\"url(#clip572)\" style=\"stroke:#000000; stroke-width:2; stroke-opacity:0.1; fill:none\" points=\"\n",
       "  2352.76,1486.45 2352.76,123.472 \n",
       "  \"/>\n",
       "<polyline clip-path=\"url(#clip572)\" style=\"stroke:#000000; stroke-width:2; stroke-opacity:0.1; fill:none\" points=\"\n",
       "  211.602,1486.45 2352.76,1486.45 \n",
       "  \"/>\n",
       "<polyline clip-path=\"url(#clip572)\" style=\"stroke:#000000; stroke-width:2; stroke-opacity:0.1; fill:none\" points=\"\n",
       "  211.602,1213.85 2352.76,1213.85 \n",
       "  \"/>\n",
       "<polyline clip-path=\"url(#clip572)\" style=\"stroke:#000000; stroke-width:2; stroke-opacity:0.1; fill:none\" points=\"\n",
       "  211.602,941.258 2352.76,941.258 \n",
       "  \"/>\n",
       "<polyline clip-path=\"url(#clip572)\" style=\"stroke:#000000; stroke-width:2; stroke-opacity:0.1; fill:none\" points=\"\n",
       "  211.602,668.662 2352.76,668.662 \n",
       "  \"/>\n",
       "<polyline clip-path=\"url(#clip572)\" style=\"stroke:#000000; stroke-width:2; stroke-opacity:0.1; fill:none\" points=\"\n",
       "  211.602,396.067 2352.76,396.067 \n",
       "  \"/>\n",
       "<polyline clip-path=\"url(#clip572)\" style=\"stroke:#000000; stroke-width:2; stroke-opacity:0.1; fill:none\" points=\"\n",
       "  211.602,123.472 2352.76,123.472 \n",
       "  \"/>\n",
       "<polyline clip-path=\"url(#clip570)\" style=\"stroke:#000000; stroke-width:4; stroke-opacity:1; fill:none\" points=\"\n",
       "  211.602,1486.45 2352.76,1486.45 \n",
       "  \"/>\n",
       "<polyline clip-path=\"url(#clip570)\" style=\"stroke:#000000; stroke-width:4; stroke-opacity:1; fill:none\" points=\"\n",
       "  211.602,1486.45 211.602,123.472 \n",
       "  \"/>\n",
       "<polyline clip-path=\"url(#clip570)\" style=\"stroke:#000000; stroke-width:4; stroke-opacity:1; fill:none\" points=\"\n",
       "  211.602,1486.45 211.602,1470.09 \n",
       "  \"/>\n",
       "<polyline clip-path=\"url(#clip570)\" style=\"stroke:#000000; stroke-width:4; stroke-opacity:1; fill:none\" points=\"\n",
       "  639.833,1486.45 639.833,1470.09 \n",
       "  \"/>\n",
       "<polyline clip-path=\"url(#clip570)\" style=\"stroke:#000000; stroke-width:4; stroke-opacity:1; fill:none\" points=\"\n",
       "  1068.06,1486.45 1068.06,1470.09 \n",
       "  \"/>\n",
       "<polyline clip-path=\"url(#clip570)\" style=\"stroke:#000000; stroke-width:4; stroke-opacity:1; fill:none\" points=\"\n",
       "  1496.29,1486.45 1496.29,1470.09 \n",
       "  \"/>\n",
       "<polyline clip-path=\"url(#clip570)\" style=\"stroke:#000000; stroke-width:4; stroke-opacity:1; fill:none\" points=\"\n",
       "  1924.53,1486.45 1924.53,1470.09 \n",
       "  \"/>\n",
       "<polyline clip-path=\"url(#clip570)\" style=\"stroke:#000000; stroke-width:4; stroke-opacity:1; fill:none\" points=\"\n",
       "  2352.76,1486.45 2352.76,1470.09 \n",
       "  \"/>\n",
       "<polyline clip-path=\"url(#clip570)\" style=\"stroke:#000000; stroke-width:4; stroke-opacity:1; fill:none\" points=\"\n",
       "  211.602,1486.45 237.296,1486.45 \n",
       "  \"/>\n",
       "<polyline clip-path=\"url(#clip570)\" style=\"stroke:#000000; stroke-width:4; stroke-opacity:1; fill:none\" points=\"\n",
       "  211.602,1213.85 237.296,1213.85 \n",
       "  \"/>\n",
       "<polyline clip-path=\"url(#clip570)\" style=\"stroke:#000000; stroke-width:4; stroke-opacity:1; fill:none\" points=\"\n",
       "  211.602,941.258 237.296,941.258 \n",
       "  \"/>\n",
       "<polyline clip-path=\"url(#clip570)\" style=\"stroke:#000000; stroke-width:4; stroke-opacity:1; fill:none\" points=\"\n",
       "  211.602,668.662 237.296,668.662 \n",
       "  \"/>\n",
       "<polyline clip-path=\"url(#clip570)\" style=\"stroke:#000000; stroke-width:4; stroke-opacity:1; fill:none\" points=\"\n",
       "  211.602,396.067 237.296,396.067 \n",
       "  \"/>\n",
       "<polyline clip-path=\"url(#clip570)\" style=\"stroke:#000000; stroke-width:4; stroke-opacity:1; fill:none\" points=\"\n",
       "  211.602,123.472 237.296,123.472 \n",
       "  \"/>\n",
       "<path clip-path=\"url(#clip570)\" d=\"M 0 0 M221.593 1547.36 Q221.593 1550.97 225.158 1552.8 Q228.7 1554.6 235.829 1554.6 Q242.936 1554.6 246.5 1552.8 Q250.042 1550.97 250.042 1547.36 Q250.042 1543.73 246.5 1541.92 Q242.936 1540.09 235.829 1540.09 Q228.7 1540.09 225.158 1541.92 Q221.593 1543.73 221.593 1547.36 M217.889 1547.36 Q217.889 1541.55 222.496 1538.49 Q227.079 1535.42 235.829 1535.42 Q244.556 1535.42 249.162 1538.49 Q253.746 1541.55 253.746 1547.36 Q253.746 1553.17 249.162 1556.25 Q244.556 1559.3 235.829 1559.3 Q227.079 1559.3 222.496 1556.25 Q217.889 1553.17 217.889 1547.36 Z\" fill=\"#000000\" fill-rule=\"evenodd\" fill-opacity=\"1\" /><path clip-path=\"url(#clip570)\" d=\"M 0 0 M247.195 1530.35 L247.195 1525.46 L253.074 1525.46 L253.074 1530.35 L247.195 1530.35 Z\" fill=\"#000000\" fill-rule=\"evenodd\" fill-opacity=\"1\" /><path clip-path=\"url(#clip570)\" d=\"M 0 0 M221.593 1510.39 Q221.593 1514 225.158 1515.83 Q228.7 1517.64 235.829 1517.64 Q242.936 1517.64 246.5 1515.83 Q250.042 1514 250.042 1510.39 Q250.042 1506.76 246.5 1504.95 Q242.936 1503.12 235.829 1503.12 Q228.7 1503.12 225.158 1504.95 Q221.593 1506.76 221.593 1510.39 M217.889 1510.39 Q217.889 1504.58 222.496 1501.53 Q227.079 1498.45 235.829 1498.45 Q244.556 1498.45 249.162 1501.53 Q253.746 1504.58 253.746 1510.39 Q253.746 1516.2 249.162 1519.28 Q244.556 1522.34 235.829 1522.34 Q227.079 1522.34 222.496 1519.28 Q217.889 1516.2 217.889 1510.39 Z\" fill=\"#000000\" fill-rule=\"evenodd\" fill-opacity=\"1\" /><path clip-path=\"url(#clip570)\" d=\"M 0 0 M649.824 1545.76 Q649.824 1549.37 653.389 1551.2 Q656.93 1553.01 664.06 1553.01 Q671.166 1553.01 674.731 1551.2 Q678.273 1549.37 678.273 1545.76 Q678.273 1542.13 674.731 1540.32 Q671.166 1538.49 664.06 1538.49 Q656.93 1538.49 653.389 1540.32 Q649.824 1542.13 649.824 1545.76 M646.12 1545.76 Q646.12 1539.95 650.727 1536.9 Q655.31 1533.82 664.06 1533.82 Q672.787 1533.82 677.393 1536.9 Q681.976 1539.95 681.976 1545.76 Q681.976 1551.57 677.393 1554.65 Q672.787 1557.71 664.06 1557.71 Q655.31 1557.71 650.727 1554.65 Q646.12 1551.57 646.12 1545.76 Z\" fill=\"#000000\" fill-rule=\"evenodd\" fill-opacity=\"1\" /><path clip-path=\"url(#clip570)\" d=\"M 0 0 M675.426 1528.75 L675.426 1523.86 L681.305 1523.86 L681.305 1528.75 L675.426 1528.75 Z\" fill=\"#000000\" fill-rule=\"evenodd\" fill-opacity=\"1\" /><path clip-path=\"url(#clip570)\" d=\"M 0 0 M677.37 1514.77 L677.37 1498.45 L681.305 1498.45 L681.305 1520.39 L677.37 1520.39 Q674.615 1517.73 669.986 1513.15 Q665.333 1508.54 663.99 1507.36 Q661.467 1505.11 659.731 1504.23 Q657.972 1503.33 656.282 1503.33 Q653.527 1503.33 651.791 1505.28 Q650.055 1507.2 650.055 1510.3 Q650.055 1512.5 650.819 1514.95 Q651.583 1517.38 653.134 1520.16 L648.412 1520.16 Q647.278 1517.34 646.699 1514.88 Q646.12 1512.43 646.12 1510.39 Q646.12 1505.02 648.805 1501.83 Q651.49 1498.63 655.981 1498.63 Q658.111 1498.63 660.032 1499.44 Q661.93 1500.23 664.523 1502.34 Q665.194 1502.92 668.412 1506.02 Q671.606 1509.12 677.37 1514.77 Z\" fill=\"#000000\" fill-rule=\"evenodd\" fill-opacity=\"1\" /><path clip-path=\"url(#clip570)\" d=\"M 0 0 M1078.05 1547.85 Q1078.05 1551.46 1081.62 1553.29 Q1085.16 1555.09 1092.29 1555.09 Q1099.4 1555.09 1102.96 1553.29 Q1106.5 1551.46 1106.5 1547.85 Q1106.5 1544.21 1102.96 1542.41 Q1099.4 1540.58 1092.29 1540.58 Q1085.16 1540.58 1081.62 1542.41 Q1078.05 1544.21 1078.05 1547.85 M1074.35 1547.85 Q1074.35 1542.04 1078.96 1538.98 Q1083.54 1535.9 1092.29 1535.9 Q1101.02 1535.9 1105.62 1538.98 Q1110.21 1542.04 1110.21 1547.85 Q1110.21 1553.66 1105.62 1556.73 Q1101.02 1559.79 1092.29 1559.79 Q1083.54 1559.79 1078.96 1556.73 Q1074.35 1553.66 1074.35 1547.85 Z\" fill=\"#000000\" fill-rule=\"evenodd\" fill-opacity=\"1\" /><path clip-path=\"url(#clip570)\" d=\"M 0 0 M1103.66 1530.83 L1103.66 1525.95 L1109.54 1525.95 L1109.54 1530.83 L1103.66 1530.83 Z\" fill=\"#000000\" fill-rule=\"evenodd\" fill-opacity=\"1\" /><path clip-path=\"url(#clip570)\" d=\"M 0 0 M1079.05 1508.03 L1097.5 1519.84 L1097.5 1508.03 L1079.05 1508.03 M1074.98 1509.26 L1074.98 1503.38 L1097.5 1503.38 L1097.5 1498.45 L1101.39 1498.45 L1101.39 1503.38 L1109.54 1503.38 L1109.54 1508.03 L1101.39 1508.03 L1101.39 1523.63 L1096.87 1523.63 L1074.98 1509.26 Z\" fill=\"#000000\" fill-rule=\"evenodd\" fill-opacity=\"1\" /><path clip-path=\"url(#clip570)\" d=\"M 0 0 M1506.29 1547.52 Q1506.29 1551.13 1509.85 1552.96 Q1513.39 1554.77 1520.52 1554.77 Q1527.63 1554.77 1531.19 1552.96 Q1534.73 1551.13 1534.73 1547.52 Q1534.73 1543.89 1531.19 1542.08 Q1527.63 1540.25 1520.52 1540.25 Q1513.39 1540.25 1509.85 1542.08 Q1506.29 1543.89 1506.29 1547.52 M1502.58 1547.52 Q1502.58 1541.71 1507.19 1538.66 Q1511.77 1535.58 1520.52 1535.58 Q1529.25 1535.58 1533.85 1538.66 Q1538.44 1541.71 1538.44 1547.52 Q1538.44 1553.33 1533.85 1556.41 Q1529.25 1559.47 1520.52 1559.47 Q1511.77 1559.47 1507.19 1556.41 Q1502.58 1553.33 1502.58 1547.52 Z\" fill=\"#000000\" fill-rule=\"evenodd\" fill-opacity=\"1\" /><path clip-path=\"url(#clip570)\" d=\"M 0 0 M1531.89 1530.51 L1531.89 1525.62 L1537.77 1525.62 L1537.77 1530.51 L1531.89 1530.51 Z\" fill=\"#000000\" fill-rule=\"evenodd\" fill-opacity=\"1\" /><path clip-path=\"url(#clip570)\" d=\"M 0 0 M1518.62 1509.98 Q1518.62 1513.12 1520.78 1514.98 Q1522.93 1516.8 1526.68 1516.8 Q1530.41 1516.8 1532.58 1514.98 Q1534.73 1513.12 1534.73 1509.98 Q1534.73 1506.83 1532.58 1505 Q1530.41 1503.15 1526.68 1503.15 Q1522.93 1503.15 1520.78 1505 Q1518.62 1506.83 1518.62 1509.98 M1503.97 1500.69 L1508.23 1500.69 Q1507.4 1502.45 1506.96 1504.26 Q1506.52 1506.04 1506.52 1507.8 Q1506.52 1512.43 1509.64 1514.88 Q1512.77 1517.31 1519.09 1517.66 Q1517.07 1516.3 1516.01 1514.23 Q1514.92 1512.17 1514.92 1509.7 Q1514.92 1504.49 1518.09 1501.48 Q1521.24 1498.45 1526.68 1498.45 Q1532 1498.45 1535.22 1501.6 Q1538.44 1504.74 1538.44 1509.98 Q1538.44 1515.97 1533.85 1519.14 Q1529.25 1522.31 1520.52 1522.31 Q1512.33 1522.31 1507.47 1518.42 Q1502.58 1514.54 1502.58 1507.98 Q1502.58 1506.23 1502.93 1504.44 Q1503.28 1502.64 1503.97 1500.69 Z\" fill=\"#000000\" fill-rule=\"evenodd\" fill-opacity=\"1\" /><path clip-path=\"url(#clip570)\" d=\"M 0 0 M1934.52 1547.27 Q1934.52 1550.88 1938.08 1552.71 Q1941.62 1554.51 1948.75 1554.51 Q1955.86 1554.51 1959.42 1552.71 Q1962.96 1550.88 1962.96 1547.27 Q1962.96 1543.63 1959.42 1541.83 Q1955.86 1540 1948.75 1540 Q1941.62 1540 1938.08 1541.83 Q1934.52 1543.63 1934.52 1547.27 M1930.81 1547.27 Q1930.81 1541.46 1935.42 1538.4 Q1940 1535.32 1948.75 1535.32 Q1957.48 1535.32 1962.09 1538.4 Q1966.67 1541.46 1966.67 1547.27 Q1966.67 1553.08 1962.09 1556.16 Q1957.48 1559.21 1948.75 1559.21 Q1940 1559.21 1935.42 1556.16 Q1930.81 1553.08 1930.81 1547.27 Z\" fill=\"#000000\" fill-rule=\"evenodd\" fill-opacity=\"1\" /><path clip-path=\"url(#clip570)\" d=\"M 0 0 M1960.12 1530.25 L1960.12 1525.37 L1966 1525.37 L1966 1530.25 L1960.12 1530.25 Z\" fill=\"#000000\" fill-rule=\"evenodd\" fill-opacity=\"1\" /><path clip-path=\"url(#clip570)\" d=\"M 0 0 M1949.59 1510.3 Q1949.59 1513.63 1951.37 1515.55 Q1953.15 1517.45 1956.28 1517.45 Q1959.4 1517.45 1961.18 1515.55 Q1962.96 1513.63 1962.96 1510.3 Q1962.96 1506.97 1961.18 1505.05 Q1959.38 1503.12 1956.28 1503.12 Q1953.15 1503.12 1951.37 1505.05 Q1949.59 1506.94 1949.59 1510.3 M1947.59 1514.98 Q1946.85 1517.98 1944.79 1519.67 Q1942.73 1521.34 1939.77 1521.34 Q1935.63 1521.34 1933.22 1518.4 Q1930.81 1515.44 1930.81 1510.3 Q1930.81 1505.14 1933.22 1502.2 Q1935.63 1499.26 1939.77 1499.26 Q1942.73 1499.26 1944.79 1500.95 Q1946.85 1502.61 1947.59 1505.6 Q1948.38 1502.22 1950.67 1500.35 Q1952.96 1498.45 1956.28 1498.45 Q1961.3 1498.45 1963.98 1501.53 Q1966.67 1504.58 1966.67 1510.3 Q1966.67 1516.02 1963.98 1519.1 Q1961.3 1522.15 1956.28 1522.15 Q1952.96 1522.15 1950.67 1520.25 Q1948.38 1518.36 1947.59 1514.98 M1940.21 1516.69 Q1942.9 1516.69 1944.4 1515.02 Q1945.9 1513.33 1945.9 1510.3 Q1945.9 1507.29 1944.4 1505.6 Q1942.9 1503.89 1940.21 1503.89 Q1937.53 1503.89 1936.02 1505.6 Q1934.52 1507.29 1934.52 1510.3 Q1934.52 1513.33 1936.02 1515.02 Q1937.53 1516.69 1940.21 1516.69 Z\" fill=\"#000000\" fill-rule=\"evenodd\" fill-opacity=\"1\" /><path clip-path=\"url(#clip570)\" d=\"M 0 0 M2390.29 1555.32 L2390.29 1547.68 L2363.93 1547.68 L2365.59 1555.99 L2361.33 1555.99 L2359.67 1547.73 L2359.67 1543.05 L2390.29 1543.05 L2390.29 1535.42 L2394.23 1535.42 L2394.23 1555.32 L2390.29 1555.32 Z\" fill=\"#000000\" fill-rule=\"evenodd\" fill-opacity=\"1\" /><path clip-path=\"url(#clip570)\" d=\"M 0 0 M2388.35 1530.35 L2388.35 1525.46 L2394.23 1525.46 L2394.23 1530.35 L2388.35 1530.35 Z\" fill=\"#000000\" fill-rule=\"evenodd\" fill-opacity=\"1\" /><path clip-path=\"url(#clip570)\" d=\"M 0 0 M2362.75 1510.39 Q2362.75 1514 2366.31 1515.83 Q2369.85 1517.64 2376.98 1517.64 Q2384.09 1517.64 2387.65 1515.83 Q2391.2 1514 2391.2 1510.39 Q2391.2 1506.76 2387.65 1504.95 Q2384.09 1503.12 2376.98 1503.12 Q2369.85 1503.12 2366.31 1504.95 Q2362.75 1506.76 2362.75 1510.39 M2359.04 1510.39 Q2359.04 1504.58 2363.65 1501.53 Q2368.23 1498.45 2376.98 1498.45 Q2385.71 1498.45 2390.32 1501.53 Q2394.9 1504.58 2394.9 1510.39 Q2394.9 1516.2 2390.32 1519.28 Q2385.71 1522.34 2376.98 1522.34 Q2368.23 1522.34 2363.65 1519.28 Q2359.04 1516.2 2359.04 1510.39 Z\" fill=\"#000000\" fill-rule=\"evenodd\" fill-opacity=\"1\" /><path clip-path=\"url(#clip570)\" d=\"M 0 0 M145.753 1535.36 Q145.753 1538.97 149.318 1540.8 Q152.86 1542.6 159.989 1542.6 Q167.096 1542.6 170.66 1540.8 Q174.202 1538.97 174.202 1535.36 Q174.202 1531.73 170.66 1529.92 Q167.096 1528.09 159.989 1528.09 Q152.86 1528.09 149.318 1529.92 Q145.753 1531.73 145.753 1535.36 M142.049 1535.36 Q142.049 1529.55 146.656 1526.49 Q151.239 1523.42 159.989 1523.42 Q168.716 1523.42 173.322 1526.49 Q177.906 1529.55 177.906 1535.36 Q177.906 1541.17 173.322 1544.25 Q168.716 1547.3 159.989 1547.3 Q151.239 1547.3 146.656 1544.25 Q142.049 1541.17 142.049 1535.36 Z\" fill=\"#000000\" fill-rule=\"evenodd\" fill-opacity=\"1\" /><path clip-path=\"url(#clip570)\" d=\"M 0 0 M171.355 1518.35 L171.355 1513.46 L177.234 1513.46 L177.234 1518.35 L171.355 1518.35 Z\" fill=\"#000000\" fill-rule=\"evenodd\" fill-opacity=\"1\" /><path clip-path=\"url(#clip570)\" d=\"M 0 0 M145.753 1498.39 Q145.753 1502 149.318 1503.83 Q152.86 1505.64 159.989 1505.64 Q167.096 1505.64 170.66 1503.83 Q174.202 1502 174.202 1498.39 Q174.202 1494.76 170.66 1492.95 Q167.096 1491.12 159.989 1491.12 Q152.86 1491.12 149.318 1492.95 Q145.753 1494.76 145.753 1498.39 M142.049 1498.39 Q142.049 1492.58 146.656 1489.53 Q151.239 1486.45 159.989 1486.45 Q168.716 1486.45 173.322 1489.53 Q177.906 1492.58 177.906 1498.39 Q177.906 1504.2 173.322 1507.28 Q168.716 1510.34 159.989 1510.34 Q151.239 1510.34 146.656 1507.28 Q142.049 1504.2 142.049 1498.39 Z\" fill=\"#000000\" fill-rule=\"evenodd\" fill-opacity=\"1\" /><path clip-path=\"url(#clip570)\" d=\"M 0 0 M145.753 1261.17 Q145.753 1264.78 149.318 1266.61 Q152.86 1268.41 159.989 1268.41 Q167.096 1268.41 170.66 1266.61 Q174.202 1264.78 174.202 1261.17 Q174.202 1257.53 170.66 1255.73 Q167.096 1253.9 159.989 1253.9 Q152.86 1253.9 149.318 1255.73 Q145.753 1257.53 145.753 1261.17 M142.049 1261.17 Q142.049 1255.36 146.656 1252.3 Q151.239 1249.22 159.989 1249.22 Q168.716 1249.22 173.322 1252.3 Q177.906 1255.36 177.906 1261.17 Q177.906 1266.98 173.322 1270.06 Q168.716 1273.11 159.989 1273.11 Q151.239 1273.11 146.656 1270.06 Q142.049 1266.98 142.049 1261.17 Z\" fill=\"#000000\" fill-rule=\"evenodd\" fill-opacity=\"1\" /><path clip-path=\"url(#clip570)\" d=\"M 0 0 M171.355 1244.15 L171.355 1239.27 L177.234 1239.27 L177.234 1244.15 L171.355 1244.15 Z\" fill=\"#000000\" fill-rule=\"evenodd\" fill-opacity=\"1\" /><path clip-path=\"url(#clip570)\" d=\"M 0 0 M173.299 1230.17 L173.299 1213.85 L177.234 1213.85 L177.234 1235.8 L173.299 1235.8 Q170.545 1233.14 165.915 1228.55 Q161.262 1223.95 159.92 1222.76 Q157.397 1220.52 155.66 1219.64 Q153.901 1218.74 152.211 1218.74 Q149.457 1218.74 147.721 1220.68 Q145.985 1222.6 145.985 1225.7 Q145.985 1227.9 146.748 1230.36 Q147.512 1232.79 149.063 1235.57 L144.341 1235.57 Q143.207 1232.74 142.628 1230.29 Q142.049 1227.83 142.049 1225.8 Q142.049 1220.43 144.735 1217.23 Q147.42 1214.04 151.91 1214.04 Q154.04 1214.04 155.961 1214.85 Q157.86 1215.64 160.452 1217.74 Q161.123 1218.32 164.341 1221.42 Q167.535 1224.52 173.299 1230.17 Z\" fill=\"#000000\" fill-rule=\"evenodd\" fill-opacity=\"1\" /><path clip-path=\"url(#clip570)\" d=\"M 0 0 M145.753 990.655 Q145.753 994.267 149.318 996.095 Q152.86 997.901 159.989 997.901 Q167.096 997.901 170.66 996.095 Q174.202 994.267 174.202 990.655 Q174.202 987.021 170.66 985.216 Q167.096 983.387 159.989 983.387 Q152.86 983.387 149.318 985.216 Q145.753 987.021 145.753 990.655 M142.049 990.655 Q142.049 984.845 146.656 981.79 Q151.239 978.711 159.989 978.711 Q168.716 978.711 173.322 981.79 Q177.906 984.845 177.906 990.655 Q177.906 996.466 173.322 999.544 Q168.716 1002.6 159.989 1002.6 Q151.239 1002.6 146.656 999.544 Q142.049 996.466 142.049 990.655 Z\" fill=\"#000000\" fill-rule=\"evenodd\" fill-opacity=\"1\" /><path clip-path=\"url(#clip570)\" d=\"M 0 0 M171.355 973.642 L171.355 968.757 L177.234 968.757 L177.234 973.642 L171.355 973.642 Z\" fill=\"#000000\" fill-rule=\"evenodd\" fill-opacity=\"1\" /><path clip-path=\"url(#clip570)\" d=\"M 0 0 M146.748 950.841 L165.197 962.646 L165.197 950.841 L146.748 950.841 M142.674 952.068 L142.674 946.188 L165.197 946.188 L165.197 941.258 L169.086 941.258 L169.086 946.188 L177.234 946.188 L177.234 950.841 L169.086 950.841 L169.086 966.443 L164.572 966.443 L142.674 952.068 Z\" fill=\"#000000\" fill-rule=\"evenodd\" fill-opacity=\"1\" /><path clip-path=\"url(#clip570)\" d=\"M 0 0 M145.753 717.736 Q145.753 721.347 149.318 723.176 Q152.86 724.982 159.989 724.982 Q167.096 724.982 170.66 723.176 Q174.202 721.347 174.202 717.736 Q174.202 714.102 170.66 712.296 Q167.096 710.468 159.989 710.468 Q152.86 710.468 149.318 712.296 Q145.753 714.102 145.753 717.736 M142.049 717.736 Q142.049 711.926 146.656 708.871 Q151.239 705.792 159.989 705.792 Q168.716 705.792 173.322 708.871 Q177.906 711.926 177.906 717.736 Q177.906 723.546 173.322 726.625 Q168.716 729.681 159.989 729.681 Q151.239 729.681 146.656 726.625 Q142.049 723.546 142.049 717.736 Z\" fill=\"#000000\" fill-rule=\"evenodd\" fill-opacity=\"1\" /><path clip-path=\"url(#clip570)\" d=\"M 0 0 M171.355 700.722 L171.355 695.838 L177.234 695.838 L177.234 700.722 L171.355 700.722 Z\" fill=\"#000000\" fill-rule=\"evenodd\" fill-opacity=\"1\" /><path clip-path=\"url(#clip570)\" d=\"M 0 0 M158.091 680.19 Q158.091 683.338 160.244 685.19 Q162.397 687.019 166.147 687.019 Q169.873 687.019 172.049 685.19 Q174.202 683.338 174.202 680.19 Q174.202 677.042 172.049 675.213 Q169.873 673.361 166.147 673.361 Q162.397 673.361 160.244 675.213 Q158.091 677.042 158.091 680.19 M143.438 670.908 L147.698 670.908 Q146.864 672.667 146.424 674.473 Q145.985 676.255 145.985 678.014 Q145.985 682.644 149.11 685.098 Q152.235 687.528 158.554 687.875 Q156.54 686.51 155.475 684.449 Q154.387 682.389 154.387 679.912 Q154.387 674.704 157.559 671.695 Q160.707 668.662 166.147 668.662 Q171.471 668.662 174.688 671.811 Q177.906 674.959 177.906 680.19 Q177.906 686.185 173.322 689.357 Q168.716 692.528 159.989 692.528 Q151.795 692.528 146.934 688.639 Q142.049 684.75 142.049 678.199 Q142.049 676.44 142.397 674.658 Q142.744 672.852 143.438 670.908 Z\" fill=\"#000000\" fill-rule=\"evenodd\" fill-opacity=\"1\" /><path clip-path=\"url(#clip570)\" d=\"M 0 0 M145.753 444.886 Q145.753 448.498 149.318 450.326 Q152.86 452.132 159.989 452.132 Q167.096 452.132 170.66 450.326 Q174.202 448.498 174.202 444.886 Q174.202 441.252 170.66 439.447 Q167.096 437.618 159.989 437.618 Q152.86 437.618 149.318 439.447 Q145.753 441.252 145.753 444.886 M142.049 444.886 Q142.049 439.076 146.656 436.021 Q151.239 432.942 159.989 432.942 Q168.716 432.942 173.322 436.021 Q177.906 439.076 177.906 444.886 Q177.906 450.697 173.322 453.775 Q168.716 456.831 159.989 456.831 Q151.239 456.831 146.656 453.775 Q142.049 450.697 142.049 444.886 Z\" fill=\"#000000\" fill-rule=\"evenodd\" fill-opacity=\"1\" /><path clip-path=\"url(#clip570)\" d=\"M 0 0 M171.355 427.873 L171.355 422.988 L177.234 422.988 L177.234 427.873 L171.355 427.873 Z\" fill=\"#000000\" fill-rule=\"evenodd\" fill-opacity=\"1\" /><path clip-path=\"url(#clip570)\" d=\"M 0 0 M160.822 407.919 Q160.822 411.252 162.605 413.174 Q164.387 415.072 167.512 415.072 Q170.637 415.072 172.42 413.174 Q174.202 411.252 174.202 407.919 Q174.202 404.586 172.42 402.664 Q170.614 400.743 167.512 400.743 Q164.387 400.743 162.605 402.664 Q160.822 404.563 160.822 407.919 M158.832 412.595 Q158.091 415.604 156.031 417.294 Q153.971 418.961 151.008 418.961 Q146.864 418.961 144.457 416.021 Q142.049 413.058 142.049 407.919 Q142.049 402.757 144.457 399.817 Q146.864 396.877 151.008 396.877 Q153.971 396.877 156.031 398.567 Q158.091 400.234 158.832 403.22 Q159.619 399.84 161.91 397.965 Q164.202 396.067 167.512 396.067 Q172.535 396.067 175.221 399.146 Q177.906 402.202 177.906 407.919 Q177.906 413.637 175.221 416.715 Q172.535 419.771 167.512 419.771 Q164.202 419.771 161.91 417.873 Q159.619 415.975 158.832 412.595 M151.448 414.308 Q154.133 414.308 155.637 412.641 Q157.142 410.951 157.142 407.919 Q157.142 404.91 155.637 403.22 Q154.133 401.507 151.448 401.507 Q148.762 401.507 147.258 403.22 Q145.753 404.91 145.753 407.919 Q145.753 410.951 147.258 412.641 Q148.762 414.308 151.448 414.308 Z\" fill=\"#000000\" fill-rule=\"evenodd\" fill-opacity=\"1\" /><path clip-path=\"url(#clip570)\" d=\"M 0 0 M173.299 180.347 L173.299 172.708 L146.934 172.708 L148.6 181.018 L144.341 181.018 L142.674 172.754 L142.674 168.078 L173.299 168.078 L173.299 160.44 L177.234 160.44 L177.234 180.347 L173.299 180.347 Z\" fill=\"#000000\" fill-rule=\"evenodd\" fill-opacity=\"1\" /><path clip-path=\"url(#clip570)\" d=\"M 0 0 M171.355 155.37 L171.355 150.486 L177.234 150.486 L177.234 155.37 L171.355 155.37 Z\" fill=\"#000000\" fill-rule=\"evenodd\" fill-opacity=\"1\" /><path clip-path=\"url(#clip570)\" d=\"M 0 0 M145.753 135.417 Q145.753 139.028 149.318 140.856 Q152.86 142.662 159.989 142.662 Q167.096 142.662 170.66 140.856 Q174.202 139.028 174.202 135.417 Q174.202 131.782 170.66 129.977 Q167.096 128.148 159.989 128.148 Q152.86 128.148 149.318 129.977 Q145.753 131.782 145.753 135.417 M142.049 135.417 Q142.049 129.606 146.656 126.551 Q151.239 123.472 159.989 123.472 Q168.716 123.472 173.322 126.551 Q177.906 129.606 177.906 135.417 Q177.906 141.227 173.322 144.305 Q168.716 147.361 159.989 147.361 Q151.239 147.361 146.656 144.305 Q142.049 141.227 142.049 135.417 Z\" fill=\"#000000\" fill-rule=\"evenodd\" fill-opacity=\"1\" /><path clip-path=\"url(#clip570)\" d=\"M 0 0 M821.389 63.9476 L821.389 47.7034 L808.021 47.7034 L808.021 40.9789 L829.491 40.9789 L829.491 66.9452 Q824.751 70.3075 819.039 72.0494 Q813.328 73.7508 806.846 73.7508 Q792.668 73.7508 784.647 65.4869 Q776.667 57.1826 776.667 42.3968 Q776.667 27.5705 784.647 19.3066 Q792.668 11.0023 806.846 11.0023 Q812.76 11.0023 818.067 12.4606 Q823.414 13.9189 827.911 16.7545 L827.911 25.464 Q823.374 21.6156 818.27 19.6712 Q813.165 17.7268 807.535 17.7268 Q796.435 17.7268 790.845 23.9246 Q785.295 30.1225 785.295 42.3968 Q785.295 54.6305 790.845 60.8284 Q796.435 67.0263 807.535 67.0263 Q811.869 67.0263 815.272 66.2971 Q818.675 65.5274 821.389 63.9476 Z\" fill=\"#000000\" fill-rule=\"evenodd\" fill-opacity=\"1\" /><path clip-path=\"url(#clip570)\" d=\"M 0 0 M876.117 48.0275 L876.117 51.6733 L841.846 51.6733 Q842.332 59.3701 846.464 63.421 Q850.636 67.4314 858.049 67.4314 Q862.343 67.4314 866.354 66.3781 Q870.405 65.3249 874.375 63.2184 L874.375 70.267 Q870.364 71.9684 866.151 72.8596 Q861.938 73.7508 857.604 73.7508 Q846.747 73.7508 840.388 67.4314 Q834.068 61.1119 834.068 50.3365 Q834.068 39.1965 840.063 32.6746 Q846.099 26.1121 856.308 26.1121 Q865.463 26.1121 870.769 32.0264 Q876.117 37.9003 876.117 48.0275 M868.663 45.84 Q868.582 39.7232 865.22 36.0774 Q861.898 32.4315 856.389 32.4315 Q850.15 32.4315 846.383 35.9558 Q842.656 39.4801 842.089 45.8805 L868.663 45.84 Z\" fill=\"#000000\" fill-rule=\"evenodd\" fill-opacity=\"1\" /><path clip-path=\"url(#clip570)\" d=\"M 0 0 M921.649 45.1919 L921.649 72.576 L914.195 72.576 L914.195 45.4349 Q914.195 38.994 911.683 35.7938 Q909.172 32.5936 904.149 32.5936 Q898.113 32.5936 894.629 36.4419 Q891.145 40.2903 891.145 46.9338 L891.145 72.576 L883.651 72.576 L883.651 27.2059 L891.145 27.2059 L891.145 34.2544 Q893.819 30.163 897.424 28.1376 Q901.07 26.1121 905.81 26.1121 Q913.628 26.1121 917.638 30.9732 Q921.649 35.7938 921.649 45.1919 Z\" fill=\"#000000\" fill-rule=\"evenodd\" fill-opacity=\"1\" /><path clip-path=\"url(#clip570)\" d=\"M 0 0 M968.275 48.0275 L968.275 51.6733 L934.004 51.6733 Q934.49 59.3701 938.622 63.421 Q942.794 67.4314 950.208 67.4314 Q954.502 67.4314 958.512 66.3781 Q962.563 65.3249 966.533 63.2184 L966.533 70.267 Q962.522 71.9684 958.309 72.8596 Q954.096 73.7508 949.762 73.7508 Q938.906 73.7508 932.546 67.4314 Q926.226 61.1119 926.226 50.3365 Q926.226 39.1965 932.222 32.6746 Q938.257 26.1121 948.466 26.1121 Q957.621 26.1121 962.927 32.0264 Q968.275 37.9003 968.275 48.0275 M960.821 45.84 Q960.74 39.7232 957.378 36.0774 Q954.056 32.4315 948.547 32.4315 Q942.308 32.4315 938.541 35.9558 Q934.814 39.4801 934.247 45.8805 L960.821 45.84 Z\" fill=\"#000000\" fill-rule=\"evenodd\" fill-opacity=\"1\" /><path clip-path=\"url(#clip570)\" d=\"M 0 0 M1002.38 34.1734 Q1001.13 33.4443 999.629 33.1202 Q998.17 32.7556 996.388 32.7556 Q990.068 32.7556 986.666 36.8875 Q983.303 40.9789 983.303 48.6757 L983.303 72.576 L975.809 72.576 L975.809 27.2059 L983.303 27.2059 L983.303 34.2544 Q985.653 30.1225 989.42 28.1376 Q993.188 26.1121 998.575 26.1121 Q999.345 26.1121 1000.28 26.2337 Q1001.21 26.3147 1002.34 26.5172 L1002.38 34.1734 Z\" fill=\"#000000\" fill-rule=\"evenodd\" fill-opacity=\"1\" /><path clip-path=\"url(#clip570)\" d=\"M 0 0 M1030.82 49.7694 Q1021.79 49.7694 1018.3 51.8354 Q1014.82 53.9013 1014.82 58.8839 Q1014.82 62.8538 1017.41 65.2034 Q1020.05 67.5124 1024.54 67.5124 Q1030.74 67.5124 1034.47 63.1374 Q1038.23 58.7219 1038.23 51.4303 L1038.23 49.7694 L1030.82 49.7694 M1045.69 46.6907 L1045.69 72.576 L1038.23 72.576 L1038.23 65.6895 Q1035.68 69.8214 1031.87 71.8063 Q1028.07 73.7508 1022.56 73.7508 Q1015.59 73.7508 1011.46 69.8619 Q1007.37 65.9325 1007.37 59.3701 Q1007.37 51.7138 1012.47 47.825 Q1017.61 43.9361 1027.78 43.9361 L1038.23 43.9361 L1038.23 43.2069 Q1038.23 38.0623 1034.83 35.2672 Q1031.47 32.4315 1025.35 32.4315 Q1021.46 32.4315 1017.78 33.3632 Q1014.09 34.295 1010.69 36.1584 L1010.69 29.2718 Q1014.78 27.692 1018.63 26.9223 Q1022.48 26.1121 1026.12 26.1121 Q1035.97 26.1121 1040.83 31.2163 Q1045.69 36.3204 1045.69 46.6907 Z\" fill=\"#000000\" fill-rule=\"evenodd\" fill-opacity=\"1\" /><path clip-path=\"url(#clip570)\" d=\"M 0 0 M1060.88 14.324 L1060.88 27.2059 L1076.23 27.2059 L1076.23 32.9987 L1060.88 32.9987 L1060.88 57.6282 Q1060.88 63.1779 1062.38 64.7578 Q1063.92 66.3376 1068.57 66.3376 L1076.23 66.3376 L1076.23 72.576 L1068.57 72.576 Q1059.95 72.576 1056.67 69.3758 Q1053.38 66.1351 1053.38 57.6282 L1053.38 32.9987 L1047.92 32.9987 L1047.92 27.2059 L1053.38 27.2059 L1053.38 14.324 L1060.88 14.324 Z\" fill=\"#000000\" fill-rule=\"evenodd\" fill-opacity=\"1\" /><path clip-path=\"url(#clip570)\" d=\"M 0 0 M1122.86 48.0275 L1122.86 51.6733 L1088.59 51.6733 Q1089.07 59.3701 1093.2 63.421 Q1097.38 67.4314 1104.79 67.4314 Q1109.08 67.4314 1113.09 66.3781 Q1117.15 65.3249 1121.12 63.2184 L1121.12 70.267 Q1117.1 71.9684 1112.89 72.8596 Q1108.68 73.7508 1104.34 73.7508 Q1093.49 73.7508 1087.13 67.4314 Q1080.81 61.1119 1080.81 50.3365 Q1080.81 39.1965 1086.8 32.6746 Q1092.84 26.1121 1103.05 26.1121 Q1112.2 26.1121 1117.51 32.0264 Q1122.86 37.9003 1122.86 48.0275 M1115.4 45.84 Q1115.32 39.7232 1111.96 36.0774 Q1108.64 32.4315 1103.13 32.4315 Q1096.89 32.4315 1093.12 35.9558 Q1089.4 39.4801 1088.83 45.8805 L1115.4 45.84 Z\" fill=\"#000000\" fill-rule=\"evenodd\" fill-opacity=\"1\" /><path clip-path=\"url(#clip570)\" d=\"M 0 0 M1160.53 34.0924 L1160.53 9.54393 L1167.98 9.54393 L1167.98 72.576 L1160.53 72.576 L1160.53 65.7705 Q1158.18 69.8214 1154.58 71.8063 Q1151.01 73.7508 1145.99 73.7508 Q1137.76 73.7508 1132.58 67.1883 Q1127.43 60.6258 1127.43 49.9314 Q1127.43 39.2371 1132.58 32.6746 Q1137.76 26.1121 1145.99 26.1121 Q1151.01 26.1121 1154.58 28.0971 Q1158.18 30.0415 1160.53 34.0924 M1135.13 49.9314 Q1135.13 58.1548 1138.49 62.8538 Q1141.9 67.5124 1147.81 67.5124 Q1153.72 67.5124 1157.13 62.8538 Q1160.53 58.1548 1160.53 49.9314 Q1160.53 41.7081 1157.13 37.0496 Q1153.72 32.3505 1147.81 32.3505 Q1141.9 32.3505 1138.49 37.0496 Q1135.13 41.7081 1135.13 49.9314 Z\" fill=\"#000000\" fill-rule=\"evenodd\" fill-opacity=\"1\" /><path clip-path=\"url(#clip570)\" d=\"M 0 0 M1240.98 48.0275 L1240.98 51.6733 L1206.71 51.6733 Q1207.2 59.3701 1211.33 63.421 Q1215.5 67.4314 1222.91 67.4314 Q1227.21 67.4314 1231.22 66.3781 Q1235.27 65.3249 1239.24 63.2184 L1239.24 70.267 Q1235.23 71.9684 1231.02 72.8596 Q1226.8 73.7508 1222.47 73.7508 Q1211.61 73.7508 1205.25 67.4314 Q1198.93 61.1119 1198.93 50.3365 Q1198.93 39.1965 1204.93 32.6746 Q1210.96 26.1121 1221.17 26.1121 Q1230.33 26.1121 1235.63 32.0264 Q1240.98 37.9003 1240.98 48.0275 M1233.53 45.84 Q1233.45 39.7232 1230.08 36.0774 Q1226.76 32.4315 1221.25 32.4315 Q1215.02 32.4315 1211.25 35.9558 Q1207.52 39.4801 1206.95 45.8805 L1233.53 45.84 Z\" fill=\"#000000\" fill-rule=\"evenodd\" fill-opacity=\"1\" /><path clip-path=\"url(#clip570)\" d=\"M 0 0 M1248.8 9.54393 L1256.25 9.54393 L1256.25 72.576 L1248.8 72.576 L1248.8 9.54393 Z\" fill=\"#000000\" fill-rule=\"evenodd\" fill-opacity=\"1\" /><path clip-path=\"url(#clip570)\" d=\"M 0 0 M1302.88 48.0275 L1302.88 51.6733 L1268.61 51.6733 Q1269.09 59.3701 1273.23 63.421 Q1277.4 67.4314 1284.81 67.4314 Q1289.11 67.4314 1293.12 66.3781 Q1297.17 65.3249 1301.14 63.2184 L1301.14 70.267 Q1297.13 71.9684 1292.91 72.8596 Q1288.7 73.7508 1284.37 73.7508 Q1273.51 73.7508 1267.15 67.4314 Q1260.83 61.1119 1260.83 50.3365 Q1260.83 39.1965 1266.83 32.6746 Q1272.86 26.1121 1283.07 26.1121 Q1292.23 26.1121 1297.53 32.0264 Q1302.88 37.9003 1302.88 48.0275 M1295.43 45.84 Q1295.34 39.7232 1291.98 36.0774 Q1288.66 32.4315 1283.15 32.4315 Q1276.91 32.4315 1273.15 35.9558 Q1269.42 39.4801 1268.85 45.8805 L1295.43 45.84 Z\" fill=\"#000000\" fill-rule=\"evenodd\" fill-opacity=\"1\" /><path clip-path=\"url(#clip570)\" d=\"M 0 0 M1343.35 28.9478 L1343.35 35.9153 Q1340.19 34.1734 1336.99 33.3227 Q1333.83 32.4315 1330.59 32.4315 Q1323.34 32.4315 1319.33 37.0496 Q1315.32 41.6271 1315.32 49.9314 Q1315.32 58.2358 1319.33 62.8538 Q1323.34 67.4314 1330.59 67.4314 Q1333.83 67.4314 1336.99 66.5807 Q1340.19 65.6895 1343.35 63.9476 L1343.35 70.8341 Q1340.23 72.2924 1336.87 73.0216 Q1333.54 73.7508 1329.78 73.7508 Q1319.53 73.7508 1313.49 67.3098 Q1307.46 60.8689 1307.46 49.9314 Q1307.46 38.832 1313.53 32.472 Q1319.65 26.1121 1330.26 26.1121 Q1333.71 26.1121 1336.99 26.8413 Q1340.27 27.5299 1343.35 28.9478 Z\" fill=\"#000000\" fill-rule=\"evenodd\" fill-opacity=\"1\" /><path clip-path=\"url(#clip570)\" d=\"M 0 0 M1358.54 14.324 L1358.54 27.2059 L1373.89 27.2059 L1373.89 32.9987 L1358.54 32.9987 L1358.54 57.6282 Q1358.54 63.1779 1360.04 64.7578 Q1361.58 66.3376 1366.24 66.3376 L1373.89 66.3376 L1373.89 72.576 L1366.24 72.576 Q1357.61 72.576 1354.33 69.3758 Q1351.04 66.1351 1351.04 57.6282 L1351.04 32.9987 L1345.58 32.9987 L1345.58 27.2059 L1351.04 27.2059 L1351.04 14.324 L1358.54 14.324 Z\" fill=\"#000000\" fill-rule=\"evenodd\" fill-opacity=\"1\" /><path clip-path=\"url(#clip570)\" d=\"M 0 0 M1408 34.1734 Q1406.74 33.4443 1405.25 33.1202 Q1403.79 32.7556 1402 32.7556 Q1395.69 32.7556 1392.28 36.8875 Q1388.92 40.9789 1388.92 48.6757 L1388.92 72.576 L1381.43 72.576 L1381.43 27.2059 L1388.92 27.2059 L1388.92 34.2544 Q1391.27 30.1225 1395.04 28.1376 Q1398.8 26.1121 1404.19 26.1121 Q1404.96 26.1121 1405.89 26.2337 Q1406.83 26.3147 1407.96 26.5172 L1408 34.1734 Z\" fill=\"#000000\" fill-rule=\"evenodd\" fill-opacity=\"1\" /><path clip-path=\"url(#clip570)\" d=\"M 0 0 M1415.82 27.2059 L1423.27 27.2059 L1423.27 72.576 L1415.82 72.576 L1415.82 27.2059 M1415.82 9.54393 L1423.27 9.54393 L1423.27 18.9825 L1415.82 18.9825 L1415.82 9.54393 Z\" fill=\"#000000\" fill-rule=\"evenodd\" fill-opacity=\"1\" /><path clip-path=\"url(#clip570)\" d=\"M 0 0 M1463.74 28.9478 L1463.74 35.9153 Q1460.58 34.1734 1457.38 33.3227 Q1454.22 32.4315 1450.98 32.4315 Q1443.73 32.4315 1439.72 37.0496 Q1435.71 41.6271 1435.71 49.9314 Q1435.71 58.2358 1439.72 62.8538 Q1443.73 67.4314 1450.98 67.4314 Q1454.22 67.4314 1457.38 66.5807 Q1460.58 65.6895 1463.74 63.9476 L1463.74 70.8341 Q1460.62 72.2924 1457.26 73.0216 Q1453.94 73.7508 1450.17 73.7508 Q1439.92 73.7508 1433.89 67.3098 Q1427.85 60.8689 1427.85 49.9314 Q1427.85 38.832 1433.93 32.472 Q1440.04 26.1121 1450.66 26.1121 Q1454.1 26.1121 1457.38 26.8413 Q1460.66 27.5299 1463.74 28.9478 Z\" fill=\"#000000\" fill-rule=\"evenodd\" fill-opacity=\"1\" /><path clip-path=\"url(#clip570)\" d=\"M 0 0 M1471.56 27.2059 L1479.01 27.2059 L1479.01 72.576 L1471.56 72.576 L1471.56 27.2059 M1471.56 9.54393 L1479.01 9.54393 L1479.01 18.9825 L1471.56 18.9825 L1471.56 9.54393 Z\" fill=\"#000000\" fill-rule=\"evenodd\" fill-opacity=\"1\" /><path clip-path=\"url(#clip570)\" d=\"M 0 0 M1494.2 14.324 L1494.2 27.2059 L1509.56 27.2059 L1509.56 32.9987 L1494.2 32.9987 L1494.2 57.6282 Q1494.2 63.1779 1495.7 64.7578 Q1497.24 66.3376 1501.9 66.3376 L1509.56 66.3376 L1509.56 72.576 L1501.9 72.576 Q1493.27 72.576 1489.99 69.3758 Q1486.71 66.1351 1486.71 57.6282 L1486.71 32.9987 L1481.24 32.9987 L1481.24 27.2059 L1486.71 27.2059 L1486.71 14.324 L1494.2 14.324 Z\" fill=\"#000000\" fill-rule=\"evenodd\" fill-opacity=\"1\" /><path clip-path=\"url(#clip570)\" d=\"M 0 0 M1536.25 76.7889 Q1533.09 84.8907 1530.09 87.3618 Q1527.1 89.8329 1522.07 89.8329 L1516.12 89.8329 L1516.12 83.5945 L1520.49 83.5945 Q1523.57 83.5945 1525.27 82.1361 Q1526.98 80.6778 1529.04 75.2496 L1530.38 71.8468 L1512.03 27.2059 L1519.93 27.2059 L1534.1 62.6918 L1548.28 27.2059 L1556.18 27.2059 L1536.25 76.7889 Z\" fill=\"#000000\" fill-rule=\"evenodd\" fill-opacity=\"1\" /><path clip-path=\"url(#clip570)\" d=\"M 0 0 M1590.37 27.2059 L1597.83 27.2059 L1597.83 72.576 L1590.37 72.576 L1590.37 27.2059 M1590.37 9.54393 L1597.83 9.54393 L1597.83 18.9825 L1590.37 18.9825 L1590.37 9.54393 Z\" fill=\"#000000\" fill-rule=\"evenodd\" fill-opacity=\"1\" /><path clip-path=\"url(#clip570)\" d=\"M 0 0 M1643.36 45.1919 L1643.36 72.576 L1635.9 72.576 L1635.9 45.4349 Q1635.9 38.994 1633.39 35.7938 Q1630.88 32.5936 1625.86 32.5936 Q1619.82 32.5936 1616.34 36.4419 Q1612.85 40.2903 1612.85 46.9338 L1612.85 72.576 L1605.36 72.576 L1605.36 27.2059 L1612.85 27.2059 L1612.85 34.2544 Q1615.53 30.163 1619.13 28.1376 Q1622.78 26.1121 1627.52 26.1121 Q1635.34 26.1121 1639.35 30.9732 Q1643.36 35.7938 1643.36 45.1919 Z\" fill=\"#000000\" fill-rule=\"evenodd\" fill-opacity=\"1\" /><path clip-path=\"url(#clip570)\" d=\"M 0 0 M1684.92 14.324 L1684.92 27.2059 L1700.27 27.2059 L1700.27 32.9987 L1684.92 32.9987 L1684.92 57.6282 Q1684.92 63.1779 1686.42 64.7578 Q1687.96 66.3376 1692.62 66.3376 L1700.27 66.3376 L1700.27 72.576 L1692.62 72.576 Q1683.99 72.576 1680.71 69.3758 Q1677.43 66.1351 1677.43 57.6282 L1677.43 32.9987 L1671.96 32.9987 L1671.96 27.2059 L1677.43 27.2059 L1677.43 14.324 L1684.92 14.324 Z\" fill=\"#000000\" fill-rule=\"evenodd\" fill-opacity=\"1\" /><path clip-path=\"url(#clip570)\" d=\"M 0 0 M1742.56 86.3491 L1742.56 92.1419 L1699.46 92.1419 L1699.46 86.3491 L1742.56 86.3491 Z\" fill=\"#000000\" fill-rule=\"evenodd\" fill-opacity=\"1\" /><path clip-path=\"url(#clip570)\" d=\"M 0 0 M1752.85 65.6895 L1766.22 65.6895 L1766.22 19.5497 L1751.68 22.4663 L1751.68 15.0127 L1766.14 12.096 L1774.32 12.096 L1774.32 65.6895 L1787.69 65.6895 L1787.69 72.576 L1752.85 72.576 L1752.85 65.6895 Z\" fill=\"#000000\" fill-rule=\"evenodd\" fill-opacity=\"1\" /><path clip-path=\"url(#clip570)\" d=\"M 0 0 M49.9864 875.747 L49.9864 866.166 L82.3242 854.04 L49.9864 841.849 L49.9864 832.269 L97.5064 832.269 L97.5064 838.539 L55.7792 838.539 L88.3716 850.793 L88.3716 857.254 L55.7792 869.508 L97.5064 869.508 L97.5064 875.747 L49.9864 875.747 Z\" fill=\"#000000\" fill-rule=\"evenodd\" fill-opacity=\"1\" /><path clip-path=\"url(#clip570)\" d=\"M 0 0 M49.9864 830.105 L49.9864 823.612 L90.154 813.617 L49.9864 803.655 L49.9864 796.43 L90.154 786.436 L49.9864 776.473 L49.9864 769.949 L97.5064 781.884 L97.5064 789.969 L56.2566 799.995 L97.5064 810.116 L97.5064 818.201 L49.9864 830.105 Z\" fill=\"#000000\" fill-rule=\"evenodd\" fill-opacity=\"1\" /><path clip-path=\"url(#clip570)\" d=\"M 0 0 M75.9903 734.173 L97.5064 734.173 L97.5064 740.03 L76.1813 740.03 Q71.1206 740.03 68.6061 742.003 Q66.0917 743.977 66.0917 747.923 Q66.0917 752.666 69.1154 755.403 Q72.1391 758.14 77.359 758.14 L97.5064 758.14 L97.5064 764.029 L47.9812 764.029 L47.9812 758.14 L67.3966 758.14 Q64.1819 756.04 62.5905 753.207 Q60.9991 750.342 60.9991 746.618 Q60.9991 740.475 64.8185 737.324 Q68.6061 734.173 75.9903 734.173 Z\" fill=\"#000000\" fill-rule=\"evenodd\" fill-opacity=\"1\" /></svg>\n"
      ]
     },
     "execution_count": 15,
     "metadata": {},
     "output_type": "execute_result"
    }
   ],
   "source": [
    "value.(G)\n",
    "generation_t1 = DataFrame(Plants = PLANTS,\n",
    "                        t = \"t1\",\n",
    "                        DISP = value.(G).data[:,1]\n",
    "                        )\n",
    "\n",
    "generation_t2 = DataFrame(Plants = PLANTS,\n",
    "                        t = \"t2\",\n",
    "                        DISP = value.(G).data[:,2]\n",
    "                        )\n",
    "\n",
    "generation = vcat(generation_t1, generation_t2)\n",
    "\n",
    "p1 = bar(x = PLANTS, y = generation_t1.DISP, leg=false, title=\"Generated electricity in t_1\",\n",
    "    ylabel=\"MWh\", rotation=90)\n",
    "plot(p1)"
   ]
  },
  {
   "cell_type": "code",
   "execution_count": 21,
   "metadata": {},
   "outputs": [
    {
     "data": {
      "text/plain": [
       "17-element Array{Float64,1}:\n",
       "   0.0\n",
       "   0.0\n",
       "   0.0\n",
       "   0.0\n",
       "   0.0\n",
       "   0.0\n",
       "   0.0\n",
       "   0.0\n",
       "   0.0\n",
       "   0.0\n",
       "   0.0\n",
       "   0.0\n",
       "  50.0\n",
       "  43.95349842613549\n",
       " 499.99999999999994\n",
       "   0.0\n",
       "   0.0"
      ]
     },
     "execution_count": 21,
     "metadata": {},
     "output_type": "execute_result"
    }
   ],
   "source": [
    "generation_t1.DISP"
   ]
  },
  {
   "cell_type": "code",
   "execution_count": 16,
   "metadata": {},
   "outputs": [
    {
     "data": {
      "text/plain": [
       "2-dimensional DenseAxisArray{Float64,2,...} with index sets:\n",
       "    Dimension 1, [1, 2, 3, 4, 5, 6, 7, 8, 9, 10, 11, 12, 13, 14, 15, 16]\n",
       "    Dimension 2, [1, 2]\n",
       "And data, a 16×2 Array{Float64,2}:\n",
       " 250.0    112.213\n",
       "   0.0      0.0\n",
       " 215.248  250.0\n",
       "   0.0      0.0\n",
       " 300.0    300.0\n",
       "  50.0     50.0\n",
       "   0.0      0.0\n",
       "   0.0      0.0\n",
       "   0.0      0.0\n",
       "   0.0      0.0\n",
       "  50.0     50.0\n",
       "   0.0      0.0\n",
       "   0.0      0.0\n",
       "   0.0      0.0\n",
       "   0.0      0.0\n",
       "  50.0     50.0"
      ]
     },
     "execution_count": 16,
     "metadata": {},
     "output_type": "execute_result"
    }
   ],
   "source": [
    "value.(Gr)"
   ]
  },
  {
   "cell_type": "code",
   "execution_count": 17,
   "metadata": {},
   "outputs": [
    {
     "data": {
      "text/plain": [
       "2-dimensional DenseAxisArray{Float64,2,...} with index sets:\n",
       "    Dimension 1, [\"s1\", \"s2\"]\n",
       "    Dimension 2, [1, 2, 3]\n",
       "And data, a 2×3 Array{Float64,2}:\n",
       "   0.0    0.0  0.0\n",
       " 100.0  100.0  0.0"
      ]
     },
     "execution_count": 17,
     "metadata": {},
     "output_type": "execute_result"
    }
   ],
   "source": [
    "value.(Gs)"
   ]
  },
  {
   "cell_type": "code",
   "execution_count": 18,
   "metadata": {},
   "outputs": [
    {
     "data": {
      "text/plain": [
       "2-dimensional DenseAxisArray{Float64,2,...} with index sets:\n",
       "    Dimension 1, [\"s1\", \"s2\"]\n",
       "    Dimension 2, [1, 2, 3]\n",
       "And data, a 2×3 Array{Float64,2}:\n",
       " 0.0  0.0  0.0\n",
       " 0.0  0.0  0.0"
      ]
     },
     "execution_count": 18,
     "metadata": {},
     "output_type": "execute_result"
    }
   ],
   "source": [
    "value.(D)"
   ]
  },
  {
   "cell_type": "code",
   "execution_count": 19,
   "metadata": {},
   "outputs": [
    {
     "data": {
      "text/plain": [
       "2-dimensional DenseAxisArray{Float64,2,...} with index sets:\n",
       "    Dimension 1, [\"s1\", \"s2\"]\n",
       "    Dimension 2, [1, 2, 3]\n",
       "And data, a 2×3 Array{Float64,2}:\n",
       "  50.0    0.0  0.0\n",
       " 100.0  100.0  0.0"
      ]
     },
     "execution_count": 19,
     "metadata": {},
     "output_type": "execute_result"
    }
   ],
   "source": [
    "value.(L)"
   ]
  },
  {
   "cell_type": "code",
   "execution_count": 20,
   "metadata": {},
   "outputs": [
    {
     "data": {
      "text/plain": [
       "16×2 Array{Float64,2}:\n",
       " 0.0      0.0\n",
       " 0.0      0.0\n",
       " 0.0      0.0\n",
       " 0.29404  0.29404\n",
       " 0.58808  0.58808\n",
       " 2.34787  2.34787\n",
       " 2.64636  2.64636\n",
       " 6.83459  6.83459\n",
       " 5.3372   5.3372\n",
       " 6.83459  6.83459\n",
       " 4.39724  4.39724\n",
       " 3.76817  3.76817\n",
       " 6.93093  6.93093\n",
       " 6.93093  6.93093\n",
       " 5.0      5.0\n",
       " 5.0      5.0"
      ]
     },
     "execution_count": 20,
     "metadata": {},
     "output_type": "execute_result"
    }
   ],
   "source": [
    "Price=dual.(EnergyBalance).data"
   ]
  },
  {
   "cell_type": "code",
   "execution_count": null,
   "metadata": {},
   "outputs": [],
   "source": []
  }
 ],
 "metadata": {
  "@webio": {
   "lastCommId": null,
   "lastKernelId": null
  },
  "kernelspec": {
   "display_name": "Julia 1.4.1",
   "language": "julia",
   "name": "julia-1.4"
  },
  "language_info": {
   "file_extension": ".jl",
   "mimetype": "application/julia",
   "name": "julia",
   "version": "1.4.1"
  }
 },
 "nbformat": 4,
 "nbformat_minor": 4
}

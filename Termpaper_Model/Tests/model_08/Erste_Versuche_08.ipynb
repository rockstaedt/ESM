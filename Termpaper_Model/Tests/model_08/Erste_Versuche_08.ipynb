{
 "cells": [
  {
   "cell_type": "markdown",
   "metadata": {},
   "source": [
    "So far: Res with several plants in each node, dc load flow\n",
    "To DO: Storages, Map of Germany with links"
   ]
  },
  {
   "cell_type": "code",
   "execution_count": 2,
   "metadata": {},
   "outputs": [],
   "source": [
    "using JuMP\n",
    "using Clp\n",
    "using DataFrames\n",
    "using LinearAlgebra\n",
    "using CSV"
   ]
  },
  {
   "cell_type": "code",
   "execution_count": 3,
   "metadata": {},
   "outputs": [
    {
     "data": {
      "text/html": [
       "<table class=\"data-frame\"><thead><tr><th></th><th>index</th><th>node</th><th>g_max_s</th><th>mc</th><th>storage capacity</th><th>tech</th><th>efficiency</th></tr><tr><th></th><th>String</th><th>Int64</th><th>Int64</th><th>Int64</th><th>Int64</th><th>String</th><th>Float64</th></tr></thead><tbody><p>2 rows × 7 columns</p><tr><th>1</th><td>s1</td><td>1</td><td>50</td><td>1</td><td>50</td><td>hydro</td><td>0.8</td></tr><tr><th>2</th><td>s2</td><td>2</td><td>100</td><td>0</td><td>100</td><td>battery</td><td>0.8</td></tr></tbody></table>"
      ],
      "text/latex": [
       "\\begin{tabular}{r|ccccccc}\n",
       "\t& index & node & g\\_max\\_s & mc & storage capacity & tech & efficiency\\\\\n",
       "\t\\hline\n",
       "\t& String & Int64 & Int64 & Int64 & Int64 & String & Float64\\\\\n",
       "\t\\hline\n",
       "\t1 & s1 & 1 & 50 & 1 & 50 & hydro & 0.8 \\\\\n",
       "\t2 & s2 & 2 & 100 & 0 & 100 & battery & 0.8 \\\\\n",
       "\\end{tabular}\n"
      ],
      "text/plain": [
       "2×7 DataFrame. Omitted printing of 1 columns\n",
       "│ Row │ index  │ node  │ g_max_s │ mc    │ storage capacity │ tech    │\n",
       "│     │ \u001b[90mString\u001b[39m │ \u001b[90mInt64\u001b[39m │ \u001b[90mInt64\u001b[39m   │ \u001b[90mInt64\u001b[39m │ \u001b[90mInt64\u001b[39m            │ \u001b[90mString\u001b[39m  │\n",
       "├─────┼────────┼───────┼─────────┼───────┼──────────────────┼─────────┤\n",
       "│ 1   │ s1     │ 1     │ 50      │ 1     │ 50               │ hydro   │\n",
       "│ 2   │ s2     │ 2     │ 100     │ 0     │ 100              │ battery │"
      ]
     },
     "execution_count": 3,
     "metadata": {},
     "output_type": "execute_result"
    }
   ],
   "source": [
    "L_df = CSV.read(\"lines.csv\")\n",
    "N_df = CSV.read(\"nodes.csv\")\n",
    "P_df = CSV.read(\"plants.csv\")\n",
    "D_df = CSV.read(\"demand.csv\")\n",
    "R_df = CSV.read(\"res.csv\")\n",
    "S_df = CSV.read(\"storages.csv\")"
   ]
  },
  {
   "cell_type": "code",
   "execution_count": 4,
   "metadata": {},
   "outputs": [],
   "source": [
    "b = vec(Array(select(L_df,\"b\")))\n",
    "A = zeros(nrow(L_df),nrow(N_df))\n",
    "NODES = vec(Array(select(N_df,\"index\")))\n",
    "SLACK = 14\n",
    "\n",
    "#calculation of incidence matrix A\n",
    "counter= 1\n",
    "for i in eachrow(L_df)\n",
    "    wert1 = L_df[counter,:][2]\n",
    "    wert2 = L_df[counter,:][3]\n",
    "    A[counter,wert1] =1\n",
    "    A[counter,wert2] =-1\n",
    "    global counter +=1\n",
    "end\n",
    "\n",
    "#calculate ptdf matrix source:EW-MOD lecture\n",
    "function calculate_ptdf(A, b_vector, NODES, SLACK)\n",
    "    \"\"\" Create PTDF Based on:\n",
    "    Topology (A, incedence Matrix): LxN Matrix (1, -1) for nodes connected by line\n",
    "    Susceptance Vector (B): Linesusceptance, calculated by line paramters and propotional to length\n",
    "    NODES: Array of nodes\n",
    "    SLACK: Reference Node to create the inversse of A.T * Bd A\n",
    "\n",
    "    From documentation: PTDF = (Bd*A)(A.T * Bd * A)^-1\n",
    "    Bd: Suceptance Vector (for each line) on Diagonal Matrix (LxL)\n",
    "    Bl: Line Susceptance Matrix Bd*A\n",
    "    Bn: Nodes Susceptance Matrix (A'*B)*A\n",
    "    B_inv = Bn^-1 (without slack, otherwise singular)\n",
    "    PTDF = Bl * B_inv\n",
    "    \"\"\"\n",
    "    ## Calculation based on indices rather than Node Names (of type Str or Symb)\n",
    "    idx_nodes = collect(1:length(NODES))\n",
    "    idx_slack = findfirst(x -> x==SLACK, NODES)\n",
    "    #A = incedence\n",
    "    Bd = Diagonal(b_vector)\n",
    "    Bl = Bd*A # Line suceptance Matrix\n",
    "    Bn = (A'*Bd)*A # Nodes suceptance Matrix\n",
    "    \n",
    "    B_inv = zeros(length(NODES),length(NODES))\n",
    "    B_inv[setdiff(idx_nodes,idx_slack), setdiff(idx_nodes,idx_slack)] = inv(Bn[setdiff(idx_nodes,idx_slack), setdiff(idx_nodes,idx_slack)])\n",
    "    PTDF = Bl*B_inv\n",
    "    return PTDF\n",
    "end\n",
    "\n",
    "ptdf = calculate_ptdf(A,b,NODES,SLACK);\n",
    "ptdf;"
   ]
  },
  {
   "cell_type": "code",
   "execution_count": 5,
   "metadata": {},
   "outputs": [],
   "source": [
    "DISP = P_df[P_df.renewable .==\"no\",:].index #dispatchable plants\n",
    "NDISP = P_df[P_df.renewable .==\"yes\",:].index #nondispatchable plants, shouldnt be that important\n",
    "PLANTS = vec(Array(select(P_df,\"index\")))\n",
    "LINES = vec(Array(select(L_df,\"index\"))) #lines\n",
    "l_max = vec(Array(select(L_df,\"lmax\"))) #line maxes\n",
    "T = [1,2] #timesteps\n",
    "demand= D_df #demand dataframe\n",
    "DISP;"
   ]
  },
  {
   "cell_type": "code",
   "execution_count": 6,
   "metadata": {},
   "outputs": [
    {
     "name": "stderr",
     "output_type": "stream",
     "text": [
      "┌ Warning: `deleterows!(df::DataFrame, inds)` is deprecated, use `delete!(df, inds)` instead.\n",
      "│   caller = top-level scope at In[6]:6\n",
      "└ @ Core In[6]:6\n",
      "┌ Warning: `deleterows!(df::DataFrame, inds)` is deprecated, use `delete!(df, inds)` instead.\n",
      "│   caller = top-level scope at In[6]:7\n",
      "└ @ Core In[6]:7\n"
     ]
    }
   ],
   "source": [
    "#df for disp plants\n",
    "\n",
    "#make empty copy\n",
    "DISP_PLANTS = copy(P_df)\n",
    "NONDISP_PLANTS = copy(P_df)\n",
    "deleterows!(DISP_PLANTS,1:16)\n",
    "deleterows!(NONDISP_PLANTS,1:16)\n",
    "\n",
    "for i in DISP\n",
    "    f = P_df[P_df.index .==i,:]\n",
    "    append!(DISP_PLANTS,f)\n",
    "end\n",
    "for i in NDISP\n",
    "    f = P_df[P_df.index .==i,:]\n",
    "    append!(NONDISP_PLANTS,f)\n",
    "end\n",
    "DISP_PLANTS;"
   ]
  },
  {
   "cell_type": "code",
   "execution_count": 7,
   "metadata": {},
   "outputs": [],
   "source": [
    "plants_at_node = Dict()\n",
    "mc = Dict()\n",
    "gmax_c = Dict()\n",
    "for i in eachrow(P_df)\n",
    "    if !haskey(plants_at_node,i[\"node\"])\n",
    "        plants_at_node[i[\"node\"]]=[i[\"index\"]]\n",
    "    else\n",
    "        push!(plants_at_node[i[\"node\"]],i[\"index\"])\n",
    "    end\n",
    "    mc[i[\"index\"]] = i[\"mc\"]\n",
    "    gmax_c[i[\"index\"]] = i[\"g_max_c\"]\n",
    "end\n",
    "plants_at_node[SLACK]=[]\n",
    "plants_at_node;"
   ]
  },
  {
   "cell_type": "code",
   "execution_count": 8,
   "metadata": {},
   "outputs": [],
   "source": [
    "#to enter slack\n",
    "Kopie = copy(P_df)\n",
    "push!(Kopie,[\"0\" 14 \"0\" 0 0 \"0\" 0]);"
   ]
  },
  {
   "cell_type": "code",
   "execution_count": 9,
   "metadata": {},
   "outputs": [],
   "source": [
    "#gmax_r für alle nodes, timesteps\n",
    "#Capable for two res techs in a single node(pv and wind must be aggregated before hand)\n",
    "gmax_r = Dict()\n",
    "Techs = [1,2,3]#1=wind,2=pv,3=other\n",
    "\n",
    "\n",
    "\n",
    "for n in NODES\n",
    "    for t in T\n",
    "        for i in Techs\n",
    "            gmax_r[n,t,i] = 0\n",
    "        end\n",
    "        for i in 1:nrow(P_df[P_df.node .==n,:])\n",
    "            if P_df[P_df.node .==n,:][i,:][\"tech\"] == \"wind\"\n",
    "                gmax_r[n,t,1]= P_df[P_df.node .==n,:][i,:][\"g_max_r\"]*R_df[t,2]\n",
    "            elseif P_df[P_df.node .==n,:][i,:][\"tech\"] == \"pv\"\n",
    "                gmax_r[n,t,2] = P_df[P_df.node .==n,:][i,:][\"g_max_r\"]*R_df[t,3]\n",
    "            end\n",
    "        end\n",
    "    end\n",
    "end\n",
    "\n",
    "\n",
    "\n",
    "gmax_r;\n"
   ]
  },
  {
   "cell_type": "code",
   "execution_count": 10,
   "metadata": {},
   "outputs": [],
   "source": [
    "NODES = vec(Array(select(N_df,\"index\")))\n",
    "NODESCOPY = copy(NODES)\n",
    "for i in S_df.node\n",
    "    filter!(x-> x !=i ,NODESCOPY)\n",
    "end\n",
    "NODESCOPY; "
   ]
  },
  {
   "cell_type": "code",
   "execution_count": 11,
   "metadata": {},
   "outputs": [],
   "source": [
    "#Storage Data Preparation\n",
    "storage_at_node = Dict()\n",
    "gmax_s = Dict()\n",
    "mcs=Dict()\n",
    "for i in eachrow(S_df)\n",
    "    if !haskey(storage_at_node,i[\"node\"])\n",
    "        storage_at_node[i[\"node\"]]=[i[\"index\"]]\n",
    "    else\n",
    "        push!(storage_at_node[i[\"node\"]],i[\"index\"])\n",
    "    end\n",
    "    gmax_s[i[\"index\"]] = i[\"g_max_s\"]\n",
    "    mcs[i[\"index\"]] = i[\"mc\"]\n",
    "    \n",
    "end\n",
    "\n",
    "storage_at_node;\n",
    "STORAGES = vec(Array(select(S_df,\"index\")));\n",
    "gmax_s;#storage cap and g max are equal in each timestep\n",
    "mcs;\n",
    "\n",
    "for n in NODESCOPY\n",
    "    storage_at_node[n] =[]\n",
    "end\n",
    "storage_at_node;"
   ]
  },
  {
   "cell_type": "code",
   "execution_count": 12,
   "metadata": {},
   "outputs": [
    {
     "data": {
      "text/plain": [
       "3-element Array{Int64,1}:\n",
       " 1\n",
       " 2\n",
       " 3"
      ]
     },
     "execution_count": 12,
     "metadata": {},
     "output_type": "execute_result"
    }
   ],
   "source": [
    "T=[1,2]\n",
    "Ts = copy(T)\n",
    "push!(Ts,length(T)+1)# Timesteps for storage levels"
   ]
  },
  {
   "cell_type": "code",
   "execution_count": 13,
   "metadata": {},
   "outputs": [
    {
     "data": {
      "text/plain": [
       "Dict{Any,Any} with 96 entries:\n",
       "  (4, 2, 2)  => 0\n",
       "  (10, 2, 1) => 0\n",
       "  (11, 1, 3) => 0\n",
       "  (10, 1, 2) => 0\n",
       "  (12, 2, 1) => 0\n",
       "  (13, 2, 1) => 0\n",
       "  (1, 2, 1)  => 250\n",
       "  (15, 2, 2) => 0\n",
       "  (3, 1, 2)  => 0\n",
       "  (13, 2, 3) => 0\n",
       "  (13, 1, 3) => 0\n",
       "  (9, 1, 1)  => 0\n",
       "  (5, 2, 3)  => 0\n",
       "  (1, 2, 2)  => 0\n",
       "  (7, 1, 3)  => 0\n",
       "  (7, 2, 3)  => 0\n",
       "  (16, 1, 2) => 50\n",
       "  (10, 2, 2) => 0\n",
       "  (4, 1, 2)  => 0\n",
       "  (4, 1, 1)  => 0\n",
       "  (8, 1, 1)  => 0\n",
       "  (8, 2, 3)  => 0\n",
       "  (14, 2, 2) => 0\n",
       "  (2, 2, 1)  => 0\n",
       "  (12, 1, 2) => 0\n",
       "  ⋮          => ⋮"
      ]
     },
     "execution_count": 13,
     "metadata": {},
     "output_type": "execute_result"
    }
   ],
   "source": [
    "gmax_r"
   ]
  },
  {
   "cell_type": "code",
   "execution_count": 14,
   "metadata": {},
   "outputs": [
    {
     "name": "stdout",
     "output_type": "stream",
     "text": [
      "Coin0506I Presolve 52 (-115) rows, 24 (-92) columns and 782 (-884) elements\n",
      "Clp0006I 0  Obj 0 Primal inf 46096.372 (20)\n",
      "Clp0006I 24  Obj 5862.6981\n",
      "Clp0000I Optimal - objective value 5862.6981\n",
      "Coin0511I After Postsolve, objective 5862.6981, infeasibilities - dual 9.9999998 (2), primal 0 (0)\n",
      "Coin0512I Presolved model was optimal, full model needs cleaning up\n",
      "Clp0006I 0  Obj 5862.6981 Primal inf 1.8073486e-05 (2) Dual inf 2e+08 (2)\n",
      "Clp0029I End of values pass after 2 iterations\n",
      "Clp0006I 2  Obj 5862.6981\n",
      "Clp0000I Optimal - objective value 5862.6981\n",
      "Clp0032I Optimal objective 5862.698071 - 26 iterations time 0.002, Presolve 0.00\n"
     ]
    },
    {
     "data": {
      "text/plain": [
       "5862.698071218143"
      ]
     },
     "execution_count": 14,
     "metadata": {},
     "output_type": "execute_result"
    }
   ],
   "source": [
    "##Model\n",
    "\n",
    "Fax = Model(Clp.Optimizer)\n",
    "@variables Fax begin\n",
    "    G[PLANTS,T] >= 0\n",
    "    INJ[NODES,T]\n",
    "    Gr[NODES,T] >= 0\n",
    "    D[STORAGES,Ts]>=0\n",
    "    Gs[STORAGES,Ts]>=0\n",
    "    L[STORAGES,Ts]>=0\n",
    "    \n",
    "end\n",
    "\n",
    "@objective(Fax, Min, sum(mc[disp] * G[disp,timestep] for disp in DISP, timestep in T)\n",
    "                    +sum(mcs[s]*Gs[s,timestep] for s in STORAGES,timestep in T ));\n",
    "\n",
    "@constraint(Fax, Max_Generation[plant=PLANTS,timestep = T],\n",
    "            G[plant,timestep] <= gmax_c[plant]);\n",
    "\n",
    "@constraint(Fax, Max_Gen_Res[node=NODES,timestep=T],\n",
    "            Gr[node,timestep] <= sum(gmax_r[node,timestep,tech] for tech in Techs));\n",
    "#so far so good\n",
    "\n",
    "\n",
    "\n",
    "@constraint(Fax, EnergyBalance[node=NODES,timestep = T],\n",
    "            sum(G[plant,timestep] for plant in plants_at_node[node])\n",
    "            - demand[timestep,node]  + Gr[node,timestep] \n",
    "            - sum(D[s,timestep] for s in storage_at_node[node])\n",
    "            + sum(Gs[s,timestep] for s in storage_at_node[node])== INJ[node,timestep]);\n",
    "\n",
    "\n",
    "#storage constraints\n",
    "\n",
    "@constraint(Fax,Input_Cap[s=STORAGES,timestep=T],\n",
    "            D[s,timestep] <= gmax_s[s]);\n",
    "\n",
    "@constraint(Fax,Generation_Cap[s=STORAGES,timestep=T],\n",
    "            Gs[s,timestep] <= gmax_s[s]);\n",
    "\n",
    "@constraint(Fax,Storage_Cap[s=STORAGES,timestep=T],\n",
    "            L[s,timestep] <= gmax_s[s]);\n",
    "\n",
    "@constraint(Fax,Storage_Level[s=STORAGES,timestep=2:length(T)],\n",
    "            L[s,timestep+1]==L[s,timestep]-Gs[s,timestep]+D[s,timestep]);\n",
    "\n",
    "@constraint(Fax,Start_Level[s=STORAGES],\n",
    "            L[s,1]==gmax_s[s]);\n",
    "\n",
    "\n",
    "\n",
    "\n",
    "\n",
    "\n",
    "#Line Constraints\n",
    "@constraint(Fax, LineMax[line=LINES],\n",
    "            sum(ptdf[line, node] * INJ[node,timestep] for node in NODES,timestep in T) <= l_max[line]\n",
    "            );\n",
    "\n",
    "@constraint(Fax, LineMin[line=LINES],\n",
    "            sum(ptdf[line, node] * INJ[node,timestep] for node in NODES,timestep in T) >= -l_max[line]\n",
    "            );\n",
    "\n",
    "@constraint(Fax, sum(INJ[node,timestep] for node in NODES,timestep in T) == 0);\n",
    "\n",
    "JuMP.optimize!(Fax)\n",
    "JuMP.objective_value(Fax)"
   ]
  },
  {
   "cell_type": "code",
   "execution_count": 15,
   "metadata": {},
   "outputs": [
    {
     "data": {
      "text/plain": [
       "2-dimensional DenseAxisArray{Float64,2,...} with index sets:\n",
       "    Dimension 1, [\"p1\", \"p2\", \"p3\", \"p4\", \"p5\", \"p6\", \"p7\", \"p8\", \"p9\", \"p10\", \"p11\", \"p12\", \"p13\", \"p15\", \"p16\", \"p17\", \"p18\"]\n",
       "    Dimension 2, [1, 2]\n",
       "And data, a 17×2 Array{Float64,2}:\n",
       "   0.0       0.0\n",
       "   0.0       0.0\n",
       "   0.0       0.0\n",
       "   0.0       0.0\n",
       "   0.0       0.0\n",
       "   0.0       0.0\n",
       "   0.0       0.0\n",
       "   0.0       0.0\n",
       "   0.0       0.0\n",
       "   0.0       0.0\n",
       "   0.0       0.0\n",
       "   0.0       0.0\n",
       "  50.0      50.0\n",
       "  43.9535  500.0\n",
       " 500.0     128.586\n",
       "   0.0       0.0\n",
       "   0.0       0.0"
      ]
     },
     "execution_count": 15,
     "metadata": {},
     "output_type": "execute_result"
    }
   ],
   "source": [
    "value.(G)"
   ]
  },
  {
   "cell_type": "code",
   "execution_count": 16,
   "metadata": {},
   "outputs": [
    {
     "data": {
      "text/plain": [
       "2-dimensional DenseAxisArray{Float64,2,...} with index sets:\n",
       "    Dimension 1, [1, 2, 3, 4, 5, 6, 7, 8, 9, 10, 11, 12, 13, 14, 15, 16]\n",
       "    Dimension 2, [1, 2]\n",
       "And data, a 16×2 Array{Float64,2}:\n",
       " 250.0    112.213\n",
       "   0.0      0.0\n",
       " 215.248  250.0\n",
       "   0.0      0.0\n",
       " 300.0    300.0\n",
       "  50.0     50.0\n",
       "   0.0      0.0\n",
       "   0.0      0.0\n",
       "   0.0      0.0\n",
       "   0.0      0.0\n",
       "  50.0     50.0\n",
       "   0.0      0.0\n",
       "   0.0      0.0\n",
       "   0.0      0.0\n",
       "   0.0      0.0\n",
       "  50.0     50.0"
      ]
     },
     "execution_count": 16,
     "metadata": {},
     "output_type": "execute_result"
    }
   ],
   "source": [
    "value.(Gr)"
   ]
  },
  {
   "cell_type": "code",
   "execution_count": 17,
   "metadata": {},
   "outputs": [
    {
     "data": {
      "text/plain": [
       "2-dimensional DenseAxisArray{Float64,2,...} with index sets:\n",
       "    Dimension 1, [\"s1\", \"s2\"]\n",
       "    Dimension 2, [1, 2, 3]\n",
       "And data, a 2×3 Array{Float64,2}:\n",
       "   0.0    0.0  0.0\n",
       " 100.0  100.0  0.0"
      ]
     },
     "execution_count": 17,
     "metadata": {},
     "output_type": "execute_result"
    }
   ],
   "source": [
    "value.(Gs)"
   ]
  },
  {
   "cell_type": "code",
   "execution_count": 18,
   "metadata": {},
   "outputs": [
    {
     "data": {
      "text/plain": [
       "2-dimensional DenseAxisArray{Float64,2,...} with index sets:\n",
       "    Dimension 1, [\"s1\", \"s2\"]\n",
       "    Dimension 2, [1, 2, 3]\n",
       "And data, a 2×3 Array{Float64,2}:\n",
       " 0.0  0.0  0.0\n",
       " 0.0  0.0  0.0"
      ]
     },
     "execution_count": 18,
     "metadata": {},
     "output_type": "execute_result"
    }
   ],
   "source": [
    "value.(D)"
   ]
  },
  {
   "cell_type": "code",
   "execution_count": 19,
   "metadata": {},
   "outputs": [
    {
     "data": {
      "text/plain": [
       "2-dimensional DenseAxisArray{Float64,2,...} with index sets:\n",
       "    Dimension 1, [\"s1\", \"s2\"]\n",
       "    Dimension 2, [1, 2, 3]\n",
       "And data, a 2×3 Array{Float64,2}:\n",
       "  50.0    0.0  0.0\n",
       " 100.0  100.0  0.0"
      ]
     },
     "execution_count": 19,
     "metadata": {},
     "output_type": "execute_result"
    }
   ],
   "source": [
    "value.(L)"
   ]
  },
  {
   "cell_type": "code",
   "execution_count": 20,
   "metadata": {},
   "outputs": [
    {
     "data": {
      "text/plain": [
       "16×2 Array{Float64,2}:\n",
       " 0.0      0.0\n",
       " 0.0      0.0\n",
       " 0.0      0.0\n",
       " 0.29404  0.29404\n",
       " 0.58808  0.58808\n",
       " 2.34787  2.34787\n",
       " 2.64636  2.64636\n",
       " 6.83459  6.83459\n",
       " 5.3372   5.3372\n",
       " 6.83459  6.83459\n",
       " 4.39724  4.39724\n",
       " 3.76817  3.76817\n",
       " 6.93093  6.93093\n",
       " 6.93093  6.93093\n",
       " 5.0      5.0\n",
       " 5.0      5.0"
      ]
     },
     "execution_count": 20,
     "metadata": {},
     "output_type": "execute_result"
    }
   ],
   "source": [
    "Price=dual.(EnergyBalance).data"
   ]
  },
  {
   "cell_type": "code",
   "execution_count": null,
   "metadata": {},
   "outputs": [],
   "source": []
  }
 ],
 "metadata": {
  "kernelspec": {
   "display_name": "Julia 1.4.1",
   "language": "julia",
   "name": "julia-1.4"
  },
  "language_info": {
   "file_extension": ".jl",
   "mimetype": "application/julia",
   "name": "julia",
   "version": "1.4.1"
  }
 },
 "nbformat": 4,
 "nbformat_minor": 4
}

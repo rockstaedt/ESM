{
 "cells": [
  {
   "cell_type": "markdown",
   "metadata": {},
   "source": [
    "# Homework 1\n",
    "\n",
    "## Task 1\n",
    "\n",
    "#### Use the DataFrames package to calculate the marginal cost for every technology."
   ]
  },
  {
   "cell_type": "code",
   "execution_count": 1,
   "metadata": {},
   "outputs": [],
   "source": [
    "using DataFrames"
   ]
  },
  {
   "cell_type": "code",
   "execution_count": 19,
   "metadata": {},
   "outputs": [
    {
     "data": {
      "text/html": [
       "<table class=\"data-frame\"><thead><tr><th></th><th>technology</th><th>FuelCost</th><th>𝜂</th><th>OM</th><th>𝜆</th></tr><tr><th></th><th>String</th><th>Float64</th><th>Float64</th><th>Int64</th><th>Float64</th></tr></thead><tbody><p>4 rows × 5 columns</p><tr><th>1</th><td>Nuclear</td><td>3.0</td><td>0.33</td><td>10</td><td>0.0</td></tr><tr><th>2</th><td>Lignite</td><td>6.21</td><td>0.42</td><td>6</td><td>0.399</td></tr><tr><th>3</th><td>Hard Coal</td><td>10.6</td><td>0.42</td><td>6</td><td>0.337</td></tr><tr><th>4</th><td>Natural gas</td><td>31.08</td><td>0.59</td><td>2</td><td>0.201</td></tr></tbody></table>"
      ],
      "text/latex": [
       "\\begin{tabular}{r|ccccc}\n",
       "\t& technology & FuelCost & 𝜂 & OM & 𝜆\\\\\n",
       "\t\\hline\n",
       "\t& String & Float64 & Float64 & Int64 & Float64\\\\\n",
       "\t\\hline\n",
       "\t1 & Nuclear & 3.0 & 0.33 & 10 & 0.0 \\\\\n",
       "\t2 & Lignite & 6.21 & 0.42 & 6 & 0.399 \\\\\n",
       "\t3 & Hard Coal & 10.6 & 0.42 & 6 & 0.337 \\\\\n",
       "\t4 & Natural gas & 31.08 & 0.59 & 2 & 0.201 \\\\\n",
       "\\end{tabular}\n"
      ],
      "text/plain": [
       "4×5 DataFrame\n",
       "│ Row │ technology  │ FuelCost │ 𝜂       │ OM    │ 𝜆       │\n",
       "│     │ \u001b[90mString\u001b[39m      │ \u001b[90mFloat64\u001b[39m  │ \u001b[90mFloat64\u001b[39m │ \u001b[90mInt64\u001b[39m │ \u001b[90mFloat64\u001b[39m │\n",
       "├─────┼─────────────┼──────────┼─────────┼───────┼─────────┤\n",
       "│ 1   │ Nuclear     │ 3.0      │ 0.33    │ 10    │ 0.0     │\n",
       "│ 2   │ Lignite     │ 6.21     │ 0.42    │ 6     │ 0.399   │\n",
       "│ 3   │ Hard Coal   │ 10.6     │ 0.42    │ 6     │ 0.337   │\n",
       "│ 4   │ Natural gas │ 31.08    │ 0.59    │ 2     │ 0.201   │"
      ]
     },
     "execution_count": 19,
     "metadata": {},
     "output_type": "execute_result"
    }
   ],
   "source": [
    "# create data frame with provided information\n",
    "data = DataFrame(:technology=>[\"Nuclear\", \"Lignite\", \"Hard Coal\", \"Natural gas\"],\n",
    "            :FuelCost=>[3, 6.21, 10.6, 31.08],\n",
    "            :𝜂=>[0.33, 0.42, 0.42, 0.59],\n",
    "            :OM=>[10, 6, 6, 2],\n",
    "            :𝜆=>[0, 0.399, 0.337, 0.201])"
   ]
  },
  {
   "cell_type": "markdown",
   "metadata": {},
   "source": [
    "The following equotation is used to calculate the marginal costs:\n",
    "\n",
    "$${mc}_P={{fuelcosts}_P\\over𝜂_P}+co2costs*\\lambda_P+{om}_P$$\n",
    "Current CO2 price from: https://www.boerse-online.de/rohstoffe/co2-emissionsrechte"
   ]
  },
  {
   "cell_type": "code",
   "execution_count": 20,
   "metadata": {},
   "outputs": [
    {
     "data": {
      "text/plain": [
       "25.15"
      ]
     },
     "execution_count": 20,
     "metadata": {},
     "output_type": "execute_result"
    }
   ],
   "source": [
    "# in euro\n",
    "co2_price = 25.15"
   ]
  },
  {
   "cell_type": "code",
   "execution_count": 29,
   "metadata": {},
   "outputs": [
    {
     "data": {
      "text/html": [
       "<table class=\"data-frame\"><thead><tr><th></th><th>technology</th><th>FuelCost</th><th>𝜂</th><th>OM</th><th>𝜆</th><th>marginalcosts</th></tr><tr><th></th><th>String</th><th>Float64</th><th>Float64</th><th>Int64</th><th>Float64</th><th>Float64</th></tr></thead><tbody><p>4 rows × 6 columns</p><tr><th>1</th><td>Nuclear</td><td>3.0</td><td>0.33</td><td>10</td><td>0.0</td><td>19.0909</td></tr><tr><th>2</th><td>Lignite</td><td>6.21</td><td>0.42</td><td>6</td><td>0.399</td><td>30.8206</td></tr><tr><th>3</th><td>Hard Coal</td><td>10.6</td><td>0.42</td><td>6</td><td>0.337</td><td>39.7136</td></tr><tr><th>4</th><td>Natural gas</td><td>31.08</td><td>0.59</td><td>2</td><td>0.201</td><td>59.7331</td></tr></tbody></table>"
      ],
      "text/latex": [
       "\\begin{tabular}{r|cccccc}\n",
       "\t& technology & FuelCost & 𝜂 & OM & 𝜆 & marginalcosts\\\\\n",
       "\t\\hline\n",
       "\t& String & Float64 & Float64 & Int64 & Float64 & Float64\\\\\n",
       "\t\\hline\n",
       "\t1 & Nuclear & 3.0 & 0.33 & 10 & 0.0 & 19.0909 \\\\\n",
       "\t2 & Lignite & 6.21 & 0.42 & 6 & 0.399 & 30.8206 \\\\\n",
       "\t3 & Hard Coal & 10.6 & 0.42 & 6 & 0.337 & 39.7136 \\\\\n",
       "\t4 & Natural gas & 31.08 & 0.59 & 2 & 0.201 & 59.7331 \\\\\n",
       "\\end{tabular}\n"
      ],
      "text/plain": [
       "4×6 DataFrame\n",
       "│ Row │ technology  │ FuelCost │ 𝜂       │ OM    │ 𝜆       │ marginalcosts │\n",
       "│     │ \u001b[90mString\u001b[39m      │ \u001b[90mFloat64\u001b[39m  │ \u001b[90mFloat64\u001b[39m │ \u001b[90mInt64\u001b[39m │ \u001b[90mFloat64\u001b[39m │ \u001b[90mFloat64\u001b[39m       │\n",
       "├─────┼─────────────┼──────────┼─────────┼───────┼─────────┼───────────────┤\n",
       "│ 1   │ Nuclear     │ 3.0      │ 0.33    │ 10    │ 0.0     │ 19.0909       │\n",
       "│ 2   │ Lignite     │ 6.21     │ 0.42    │ 6     │ 0.399   │ 30.8206       │\n",
       "│ 3   │ Hard Coal   │ 10.6     │ 0.42    │ 6     │ 0.337   │ 39.7136       │\n",
       "│ 4   │ Natural gas │ 31.08    │ 0.59    │ 2     │ 0.201   │ 59.7331       │"
      ]
     },
     "execution_count": 29,
     "metadata": {},
     "output_type": "execute_result"
    }
   ],
   "source": [
    "#apply equotation from above\n",
    "data[!, :marginalcosts] = data[!, :FuelCost]./data[!, :𝜂].+ co2_price.*data[!, :𝜆].+ data[!, :OM]\n",
    "#show results\n",
    "data"
   ]
  },
  {
   "cell_type": "markdown",
   "metadata": {},
   "source": [
    "## Task 2\n",
    "\n",
    "#### 1. Which variables are associated with modeling a storage system? How and where are they defined and constrained?\n",
    "\n",
    "* Storage generation $G_s$\n",
    "    * Storage is discharged in periods with low availibility of non-dispatchable technologies. Subsequently, the electricity price is higher and it is profitable to discharge the generator instead of buying electricty from the market.\n",
    "    * Storage generation is a subset of generators because they can provide electricity when charged.\n",
    "    * Amount of provided electricity is limited by the capacity of the storage system.\n",
    "    * Storage generation is defined as a model variable and is used in the energybalance constraint.\n",
    "    * In addition there has to be a constraint for the maximum generation.\n",
    "    \n",
    "$$G_{s,t}\\leq g_{s,t}^{max} \\qquad \\forall s \\in S, t \\in T $$\n",
    "$$G_{s,t}\\geq 0 \\qquad \\forall s \\in S, t \\in T $$\n",
    "    \n",
    "* Storage charging $D^{stor}$\n",
    "    * Storage is charged in periods with a high availability of non-dispatchable technologies. Subsequently, the electricity price is low and the charging process is cheap.\n",
    "    * The charging process is also limited by the capacity of the storage system.\n",
    "    * Storage charging is defined as a model variable and is used in the energybalance constraint.\n",
    "    * In addition there has to be a constraint for the maximum charge.\n",
    "    \n",
    "$$D_{s,t}^{stor}\\leq d_{s,t}^{max} \\qquad \\forall s \\in S, t \\in T $$\n",
    "$$D_{s,t}^{stor}\\geq 0 \\qquad \\forall s \\in S, t \\in T $$\n",
    "\n",
    "* Stored Energy $L^{stor}$\n",
    "    * The process of charging and discharging is tracked by the storage level.\n",
    "    * In addition the storage system can only store a certain amount of electricty, considered by the storage size $l^{max}$.\n",
    "    * Storage Level is defined as a model variable.\n",
    "    * In the model there should be two constraings modelling the storage level since there is no next time periode at the end.\n",
    "\n",
    "$$L_{s,t+1}^{stor} = L_{s,t}^{stor} - G_{s,t} + D_{s,t}^{stor} \\qquad \\forall s \\in S, t \\in T \\setminus t_{end} $$\n",
    "$$l_{s,end} = L_{s,t}^{stor} - G_{s,t} + D_{s,t}^{stor} \\qquad \\forall s \\in S, t_{end} $$\n",
    "$$L_{s,t}^{stor}\\leq l_{s}^{max} \\qquad \\forall s \\in S $$\n",
    "$$L_{s,t}^{stor}\\geq 0 \\qquad \\forall s \\in S $$\n",
    "\n",
    "* Storage efficiency $\\eta$\n",
    "    * The storage efficiency takes the conversion losses for charging and discharging into account.\n",
    "\n",
    "\n",
    "#### 2. Differentiate storage power and capacity in terms of units. A storage can be characterized by the ratio of energy to power. If this ratio is high, would you consider this storage a short-term or long-term storage? Explain your answer!\n",
    "\n",
    "* Energy Capacity \n",
    "    * The capactiy of a storage system describes the amount of electrical charge that can be withdrawn.\n",
    "    * The unit is ampere hours although the SI unit would be Coloumb.\n",
    "\n",
    "$$[C^{stor}]= Wh$$\n",
    "\n",
    "* Storage power \n",
    "    * The storage power describes how much power is stored inside the storage system.\n",
    "    * The unit is W.\n",
    "\n",
    "$$[P^{stor}]= W$$"
   ]
  },
  {
   "cell_type": "code",
   "execution_count": null,
   "metadata": {},
   "outputs": [],
   "source": []
  }
 ],
 "metadata": {
  "@webio": {
   "lastCommId": null,
   "lastKernelId": null
  },
  "kernelspec": {
   "display_name": "Julia 1.4.1",
   "language": "julia",
   "name": "julia-1.4"
  },
  "language_info": {
   "file_extension": ".jl",
   "mimetype": "application/julia",
   "name": "julia",
   "version": "1.4.1"
  }
 },
 "nbformat": 4,
 "nbformat_minor": 4
}

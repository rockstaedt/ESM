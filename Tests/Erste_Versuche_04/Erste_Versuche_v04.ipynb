{
 "cells": [
  {
   "cell_type": "markdown",
   "metadata": {},
   "source": [
    "This Time with timeseries"
   ]
  },
  {
   "cell_type": "code",
   "execution_count": 1,
   "metadata": {},
   "outputs": [],
   "source": [
    "using JuMP\n",
    "using Clp\n",
    "using DataFrames\n",
    "using LinearAlgebra\n",
    "using CSV"
   ]
  },
  {
   "cell_type": "code",
   "execution_count": 24,
   "metadata": {},
   "outputs": [
    {
     "data": {
      "text/html": [
       "<table class=\"data-frame\"><thead><tr><th></th><th>1</th><th>2</th><th>3</th><th>4</th><th>5</th><th>6</th><th>7</th><th>8</th><th>9</th><th>10</th><th>11</th><th>12</th></tr><tr><th></th><th>Int64</th><th>Int64</th><th>Int64</th><th>Int64</th><th>Int64</th><th>Int64</th><th>Int64</th><th>Int64</th><th>Int64</th><th>Int64</th><th>Int64</th><th>Int64</th></tr></thead><tbody><p>2 rows × 16 columns (omitted printing of 4 columns)</p><tr><th>1</th><td>150</td><td>150</td><td>150</td><td>150</td><td>150</td><td>150</td><td>150</td><td>150</td><td>150</td><td>150</td><td>150</td><td>150</td></tr><tr><th>2</th><td>150</td><td>150</td><td>150</td><td>150</td><td>150</td><td>150</td><td>150</td><td>150</td><td>150</td><td>150</td><td>150</td><td>150</td></tr></tbody></table>"
      ],
      "text/latex": [
       "\\begin{tabular}{r|ccccccccccccc}\n",
       "\t& 1 & 2 & 3 & 4 & 5 & 6 & 7 & 8 & 9 & 10 & 11 & 12 & \\\\\n",
       "\t\\hline\n",
       "\t& Int64 & Int64 & Int64 & Int64 & Int64 & Int64 & Int64 & Int64 & Int64 & Int64 & Int64 & Int64 & \\\\\n",
       "\t\\hline\n",
       "\t1 & 150 & 150 & 150 & 150 & 150 & 150 & 150 & 150 & 150 & 150 & 150 & 150 & $\\dots$ \\\\\n",
       "\t2 & 150 & 150 & 150 & 150 & 150 & 150 & 150 & 150 & 150 & 150 & 150 & 150 & $\\dots$ \\\\\n",
       "\\end{tabular}\n"
      ],
      "text/plain": [
       "2×16 DataFrame. Omitted printing of 7 columns\n",
       "│ Row │ 1     │ 2     │ 3     │ 4     │ 5     │ 6     │ 7     │ 8     │ 9     │\n",
       "│     │ \u001b[90mInt64\u001b[39m │ \u001b[90mInt64\u001b[39m │ \u001b[90mInt64\u001b[39m │ \u001b[90mInt64\u001b[39m │ \u001b[90mInt64\u001b[39m │ \u001b[90mInt64\u001b[39m │ \u001b[90mInt64\u001b[39m │ \u001b[90mInt64\u001b[39m │ \u001b[90mInt64\u001b[39m │\n",
       "├─────┼───────┼───────┼───────┼───────┼───────┼───────┼───────┼───────┼───────┤\n",
       "│ 1   │ 150   │ 150   │ 150   │ 150   │ 150   │ 150   │ 150   │ 150   │ 150   │\n",
       "│ 2   │ 150   │ 150   │ 150   │ 150   │ 150   │ 150   │ 150   │ 150   │ 150   │"
      ]
     },
     "execution_count": 24,
     "metadata": {},
     "output_type": "execute_result"
    }
   ],
   "source": [
    "L_df = CSV.read(\"lines.csv\")\n",
    "N_df = CSV.read(\"nodes.csv\")\n",
    "P_df = CSV.read(\"plants.csv\")\n",
    "D_df = CSV.read(\"demand.csv\")"
   ]
  },
  {
   "cell_type": "code",
   "execution_count": 30,
   "metadata": {},
   "outputs": [],
   "source": [
    "b = vec(Array(select(L_df,\"b\")))\n",
    "A = zeros(nrow(L_df),nrow(N_df))\n",
    "NODES = vec(Array(select(N_df,\"index\")))\n",
    "SLACK = 14\n",
    "PLANTS = vec(Array(select(P_df,\"index\")))\n",
    "LINES = vec(Array(select(L_df,\"index\")))\n",
    "T = [1,2]\n",
    "\n",
    "demand= D_df\n",
    "#Demand = Dict()\n",
    "#Demand[\"t1\"]=Array(D_df[1,:])\n",
    "#Demand[\"t2\"]=Array(D_df[2,:])\n",
    "l_max = vec(Array(select(L_df,\"lmax\")))\n",
    "\n",
    "\n",
    "#calculation of incidence matrix A\n",
    "counter= 1\n",
    "for i in eachrow(L_df)\n",
    "    wert1 = L_df[counter,:][2]\n",
    "    wert2 = L_df[counter,:][3]\n",
    "    A[counter,wert1] =1\n",
    "    A[counter,wert2] =-1\n",
    "    global counter +=1\n",
    "end\n"
   ]
  },
  {
   "cell_type": "code",
   "execution_count": 27,
   "metadata": {},
   "outputs": [
    {
     "data": {
      "text/plain": [
       "Dict{Any,Any} with 16 entries:\n",
       "  \"p17\" => 0\n",
       "  \"p3\"  => 0\n",
       "  \"p12\" => 6\n",
       "  \"p15\" => 5\n",
       "  \"p13\" => 0\n",
       "  \"p16\" => 5\n",
       "  \"p4\"  => 8\n",
       "  \"p5\"  => 0\n",
       "  \"p10\" => 15\n",
       "  \"p7\"  => 6\n",
       "  \"p6\"  => 0\n",
       "  \"p9\"  => 8\n",
       "  \"p2\"  => 15\n",
       "  \"p8\"  => 8\n",
       "  \"p1\"  => 0\n",
       "  \"p11\" => 0"
      ]
     },
     "execution_count": 27,
     "metadata": {},
     "output_type": "execute_result"
    }
   ],
   "source": [
    "#Account for double entries\n",
    "#plants_at_node dict\n",
    "#gmax dict\n",
    "#mc\n",
    "plants_at_node = Dict()\n",
    "gmax = Dict()\n",
    "mc = Dict()\n",
    "\n",
    "for i in eachrow(P_df)\n",
    "    if !haskey(plants_at_node,i[\"node\"])\n",
    "        plants_at_node[i[\"node\"]]=[i[\"index\"]]\n",
    "    else\n",
    "        push!(plants_at_node[i[\"node\"]],i[\"index\"])\n",
    "    end\n",
    "    gmax[i[\"index\"]] = i[\"g_max\"]\n",
    "    mc[i[\"index\"]] = i[\"mc\"]\n",
    "    \n",
    "    \n",
    "    \n",
    "end\n",
    "plants_at_node[SLACK]=[]\n",
    "plants_at_node\n",
    "mc"
   ]
  },
  {
   "cell_type": "code",
   "execution_count": 28,
   "metadata": {},
   "outputs": [
    {
     "data": {
      "text/plain": [
       "calculate_ptdf (generic function with 1 method)"
      ]
     },
     "execution_count": 28,
     "metadata": {},
     "output_type": "execute_result"
    }
   ],
   "source": [
    "#calculate ptdf matrix source:lecture\n",
    "function calculate_ptdf(A, b_vector, NODES, SLACK)\n",
    "    \"\"\" Create PTDF Based on:\n",
    "    Topology (A, incedence Matrix): LxN Matrix (1, -1) for nodes connected by line\n",
    "    Susceptance Vector (B): Linesusceptance, calculated by line paramters and propotional to length\n",
    "    NODES: Array of nodes\n",
    "    SLACK: Reference Node to create the inversse of A.T * Bd A\n",
    "\n",
    "    From documentation: PTDF = (Bd*A)(A.T * Bd * A)^-1\n",
    "    Bd: Suceptance Vector (for each line) on Diagonal Matrix (LxL)\n",
    "    Bl: Line Susceptance Matrix Bd*A\n",
    "    Bn: Nodes Susceptance Matrix (A'*B)*A\n",
    "    B_inv = Bn^-1 (without slack, otherwise singular)\n",
    "    PTDF = Bl * B_inv\n",
    "    \"\"\"\n",
    "    ## Calculation based on indices rather than Node Names (of type Str or Symb)\n",
    "    idx_nodes = collect(1:length(NODES))\n",
    "    idx_slack = findfirst(x -> x==SLACK, NODES)\n",
    "    #A = incedence\n",
    "    Bd = Diagonal(b_vector)\n",
    "    Bl = Bd*A # Line suceptance Matrix\n",
    "    Bn = (A'*Bd)*A # Nodes suceptance Matrix\n",
    "    \n",
    "    B_inv = zeros(length(NODES),length(NODES))\n",
    "    B_inv[setdiff(idx_nodes,idx_slack), setdiff(idx_nodes,idx_slack)] = inv(Bn[setdiff(idx_nodes,idx_slack), setdiff(idx_nodes,idx_slack)])\n",
    "    PTDF = Bl*B_inv\n",
    "    return PTDF\n",
    "end\n"
   ]
  },
  {
   "cell_type": "code",
   "execution_count": 29,
   "metadata": {},
   "outputs": [
    {
     "data": {
      "text/plain": [
       "26×16 Array{Float64,2}:\n",
       "  0.395689   -0.0208109  -0.0208109  …  0.0   0.00476269   0.0143332\n",
       "  0.208622    0.0416217   0.0416217     0.0  -0.00952538  -0.0286665\n",
       "  0.0         1.0         0.0           0.0   0.0          0.0\n",
       "  0.395689   -0.0208109  -0.0208109     0.0   0.00476269   0.0143332\n",
       "  0.395689   -0.0208109  -0.0208109     0.0   0.00476269   0.0143332\n",
       " -0.0748266   0.024973    0.024973   …  0.0  -0.00571523  -0.0171999\n",
       "  0.133796    0.0665948   0.0665948     0.0  -0.0152406   -0.0458664\n",
       " -0.0101633   0.0313622   0.0313622     0.0  -0.01561     -0.0496577\n",
       " -0.157586   -0.197557   -0.197557      0.0   0.0367796    0.108008\n",
       "  0.0         0.0         0.0           0.0   0.0          0.0\n",
       "  0.123632    0.097957    0.097957   …  0.0  -0.0308506   -0.0955241\n",
       "  0.0542806   0.0368759   0.0368759     0.0   0.0252909    0.0868315\n",
       "  0.16775     0.166195    0.166195      0.0  -0.0211697   -0.0583503\n",
       " -0.208891   -0.215355   -0.215355      0.0  -0.0395905   -0.0746634\n",
       " -0.499727   -0.520493   -0.520493      0.0  -0.0124297   -0.079211\n",
       " -0.0224999  -0.0178954  -0.0178954  …  0.0  -0.0865466   -0.107447\n",
       " -0.174391   -0.15674    -0.15674       0.0  -0.070379    -0.245569\n",
       "  0.0476396   0.0463307   0.0463307     0.0  -0.0662578   -0.217088\n",
       "  0.0693518   0.0610811   0.0610811     0.0  -0.0561414   -0.182356\n",
       "  0.231391    0.233251    0.233251      0.0   0.126137     0.182111\n",
       " -1.0        -1.0        -1.0        …  0.0  -1.0         -1.0\n",
       " -0.600977   -0.601022   -0.601022      0.0  -0.401889    -0.562724\n",
       " -0.167633   -0.165728   -0.165728      0.0  -0.471974    -0.255165\n",
       " -0.0948747  -0.0910465  -0.0910465     0.0   0.216809    -0.28524\n",
       "  0.072758    0.0746811   0.0746811     0.0  -0.311218    -0.0300754\n",
       " -0.0221167  -0.0163654  -0.0163654  …  0.0  -0.0944093   -0.315316"
      ]
     },
     "execution_count": 29,
     "metadata": {},
     "output_type": "execute_result"
    }
   ],
   "source": [
    "ptdf = calculate_ptdf(A,b,NODES,SLACK)"
   ]
  },
  {
   "cell_type": "code",
   "execution_count": 34,
   "metadata": {},
   "outputs": [
    {
     "data": {
      "text/plain": [
       "Dict{Tuple{Int64,Int64},Float64} with 416 entries:\n",
       "  (23, 8)  => -0.160756\n",
       "  (6, 9)   => 0.00557968\n",
       "  (18, 3)  => 0.0463307\n",
       "  (21, 13) => -1.0\n",
       "  (22, 16) => -0.562724\n",
       "  (22, 14) => 0.0\n",
       "  (23, 10) => -0.160756\n",
       "  (13, 9)  => 0.0340663\n",
       "  (26, 4)  => -0.019241\n",
       "  (8, 9)   => 0.0085404\n",
       "  (9, 1)   => -0.157586\n",
       "  (17, 14) => 0.0\n",
       "  (16, 6)  => -0.0628329\n",
       "  (16, 12) => -0.0889926\n",
       "  (16, 13) => 1.66533e-16\n",
       "  (22, 2)  => -0.601022\n",
       "  (24, 3)  => -0.0910465\n",
       "  (7, 16)  => -0.0458664\n",
       "  (1, 12)  => 0.0350101\n",
       "  (4, 5)   => 0.228688\n",
       "  (11, 8)  => 0.0029724\n",
       "  (19, 4)  => 0.0652165\n",
       "  (20, 13) => -8.88178e-17\n",
       "  (15, 4)  => -0.51011\n",
       "  (23, 16) => -0.255165\n",
       "  ⋮        => ⋮"
      ]
     },
     "execution_count": 34,
     "metadata": {},
     "output_type": "execute_result"
    }
   ],
   "source": [
    "#ptdf_dict = Dict((l, n) => ptdf[l_idx, n_idx] for (n_idx, n) in enumerate(NODES),\n",
    " #                                                 (l_idx, l) in enumerate(LINES))"
   ]
  },
  {
   "cell_type": "code",
   "execution_count": 37,
   "metadata": {},
   "outputs": [
    {
     "ename": "LoadError",
     "evalue": "BoundsError: attempt to access 2-element Array{Int64,1} at index [3]",
     "output_type": "error",
     "traceback": [
      "BoundsError: attempt to access 2-element Array{Int64,1} at index [3]",
      "",
      "Stacktrace:",
      " [1] getindex(::Array{Int64,1}, ::Int64) at .\\array.jl:809",
      " [2] macro expansion at C:\\Users\\teos\\.julia\\packages\\MutableArithmetics\\NuiNA\\src\\rewrite.jl:227 [inlined]",
      " [3] macro expansion at C:\\Users\\teos\\.julia\\packages\\JuMP\\YXK4e\\src\\macros.jl:416 [inlined]",
      " [4] (::var\"#49#50\")(::Int64, ::Int64) at C:\\Users\\teos\\.julia\\packages\\JuMP\\YXK4e\\src\\Containers\\macro.jl:183",
      " [5] #28 at C:\\Users\\teos\\.julia\\packages\\JuMP\\YXK4e\\src\\Containers\\container.jl:85 [inlined]",
      " [6] iterate at .\\generator.jl:47 [inlined]",
      " [7] collect_to!(::Array{ConstraintRef{Model,MathOptInterface.ConstraintIndex{MathOptInterface.ScalarAffineFunction{Float64},MathOptInterface.EqualTo{Float64}},ScalarShape},2}, ::Base.Generator{JuMP.Containers.VectorizedProductIterator{Tuple{Array{Int64,1},Array{Int64,1}}},JuMP.Containers.var\"#28#29\"{var\"#49#50\"}}, ::Int64, ::Tuple{Tuple{Int64,Int64},Tuple{Int64,Int64}}) at .\\array.jl:732",
      " [8] collect_to_with_first!(::Array{ConstraintRef{Model,MathOptInterface.ConstraintIndex{MathOptInterface.ScalarAffineFunction{Float64},MathOptInterface.EqualTo{Float64}},ScalarShape},2}, ::ConstraintRef{Model,MathOptInterface.ConstraintIndex{MathOptInterface.ScalarAffineFunction{Float64},MathOptInterface.EqualTo{Float64}},ScalarShape}, ::Base.Generator{JuMP.Containers.VectorizedProductIterator{Tuple{Array{Int64,1},Array{Int64,1}}},JuMP.Containers.var\"#28#29\"{var\"#49#50\"}}, ::Tuple{Tuple{Int64,Int64},Tuple{Int64,Int64}}) at .\\array.jl:710",
      " [9] collect(::Base.Generator{JuMP.Containers.VectorizedProductIterator{Tuple{Array{Int64,1},Array{Int64,1}}},JuMP.Containers.var\"#28#29\"{var\"#49#50\"}}) at .\\array.jl:691",
      " [10] map(::Function, ::JuMP.Containers.VectorizedProductIterator{Tuple{Array{Int64,1},Array{Int64,1}}}) at .\\abstractarray.jl:2188",
      " [11] container(::Function, ::JuMP.Containers.VectorizedProductIterator{Tuple{Array{Int64,1},Array{Int64,1}}}, ::Type{JuMP.Containers.DenseAxisArray}) at C:\\Users\\teos\\.julia\\packages\\JuMP\\YXK4e\\src\\Containers\\container.jl:85",
      " [12] container(::Function, ::JuMP.Containers.VectorizedProductIterator{Tuple{Array{Int64,1},Array{Int64,1}}}) at C:\\Users\\teos\\.julia\\packages\\JuMP\\YXK4e\\src\\Containers\\container.jl:65",
      " [13] top-level scope at C:\\Users\\teos\\.julia\\packages\\JuMP\\YXK4e\\src\\macros.jl:79",
      " [14] include_string(::Function, ::Module, ::String, ::String) at .\\loading.jl:1091"
     ]
    }
   ],
   "source": [
    "##Model and stuff\n",
    "Fax = Model(Clp.Optimizer)\n",
    "@variables Fax begin\n",
    "    G[PLANTS,T] >= 0\n",
    "    INJ[NODES,T]\n",
    "end\n",
    "\n",
    "@objective(Fax, Min, sum(mc[plant] * G[plant,timestep] for plant in PLANTS, timestep in T));\n",
    "\n",
    "@constraint(Fax, Max_Generation[plant=PLANTS,timestep = T],\n",
    "            G[plant,timestep] <= gmax[plant]);\n",
    "\n",
    "@constraint(Fax, EnergyBalance[node=NODES,timestep = T],\n",
    "            sum(G[plant,timestep] for plant in plants_at_node[node])\n",
    "            - demand[timestep][node] == INJ[node,timestep]);\n",
    "\n",
    "@constraint(Fax, LineMax[line=LINES],\n",
    "            sum(ptdf[line, node] * INJ[node,timestep] for node in NODES) <= l_max[line]\n",
    "            );\n",
    "@constraint(Fax, LineMin[line=LINES],\n",
    "            sum(ptdf[line, node] * INJ[node,timestep] for node in NODES) >= -l_max[line]\n",
    "            );\n",
    "\n",
    "@constraint(Fax, sum(INJ[node,timestep] for node in NODES) == 0);\n",
    "\n",
    "JuMP.optimize!(Fax)\n",
    "JuMP.objective_value(Fax)\n",
    "'\n",
    "generation_at_node = [length(plants_at_node[node]) > 0 ? sum(value(G[plant]) for plant in plants_at_node[node]) : 0 for node in NODES]\n",
    "gen = DataFrame(Nodes=NODES,\n",
    "                Generation=generation_at_node,\n",
    "                Injections=value.(INJ).data,\n",
    "                Price=dual.(EnergyBalance).data,\n",
    "                )\n",
    "println(gen)\n",
    "flow = ptdf * value.(INJ).data\n",
    "println(flow)'"
   ]
  },
  {
   "cell_type": "code",
   "execution_count": null,
   "metadata": {},
   "outputs": [],
   "source": []
  }
 ],
 "metadata": {
  "kernelspec": {
   "display_name": "Julia 1.5.0",
   "language": "julia",
   "name": "julia-1.5"
  },
  "language_info": {
   "file_extension": ".jl",
   "mimetype": "application/julia",
   "name": "julia",
   "version": "1.5.0"
  }
 },
 "nbformat": 4,
 "nbformat_minor": 4
}
